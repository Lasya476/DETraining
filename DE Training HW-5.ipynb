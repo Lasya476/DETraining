{
 "cells": [
  {
   "cell_type": "markdown",
   "id": "900a7969",
   "metadata": {},
   "source": [
    "## 1. Bronze Layer: Load dataset, create database and table, insert the data into table"
   ]
  },
  {
   "cell_type": "markdown",
   "id": "0ce24f09",
   "metadata": {},
   "source": [
    "- Load the dataset into a pandas DataFrame.\n",
    "- Create a SQLite database and a table for the dataset.\n",
    "- Insert the raw data from the DataFrame into the SQLite table."
   ]
  },
  {
   "cell_type": "code",
   "execution_count": null,
   "id": "da138bbf",
   "metadata": {},
   "outputs": [],
   "source": [
    "import sqlite3\n",
    "import pandas as pd\n",
    "\n",
    "# 1. Load the dataset \n",
    "\n",
    "file_path = '/Users/lasya/Downloads/Popular_Baby_Names.csv'\n",
    "df = pd.read_csv(file_path)"
   ]
  },
  {
   "cell_type": "code",
   "execution_count": null,
   "id": "ab7b9968",
   "metadata": {},
   "outputs": [],
   "source": [
    "df.columns"
   ]
  },
  {
   "cell_type": "code",
   "execution_count": null,
   "id": "98064930",
   "metadata": {},
   "outputs": [],
   "source": [
    "# 2. Create SQLite Connection\n",
    "\n",
    "conn = sqlite3.connect('Popular_Baby_Names.db')\n",
    "cursor = conn.cursor()"
   ]
  },
  {
   "cell_type": "code",
   "execution_count": null,
   "id": "db6d4706",
   "metadata": {},
   "outputs": [],
   "source": [
    "# Drop the existing table if it exists\n",
    "cursor.execute(\"DROP TABLE IF EXISTS baby_names\")"
   ]
  },
  {
   "cell_type": "code",
   "execution_count": null,
   "id": "1abd0b5a",
   "metadata": {},
   "outputs": [],
   "source": [
    "cursor.execute('''\n",
    "CREATE TABLE IF NOT EXISTS baby_names (\n",
    "    ID INTEGER PRIMARY KEY AUTOINCREMENT,\n",
    "    Year_of_Birth INTEGER,\n",
    "    Gender TEXT,\n",
    "    Ethnicity TEXT,\n",
    "    Childs_First_Name TEXT,\n",
    "    Count INTEGER,\n",
    "    Rank INTEGER\n",
    ")\n",
    "''')"
   ]
  },
  {
   "cell_type": "code",
   "execution_count": null,
   "id": "5305388e",
   "metadata": {},
   "outputs": [],
   "source": [
    "# Prepare the data for insertion\n",
    "baby_names_data = df[['Year of Birth', 'Gender', 'Ethnicity', \"Child's First Name\", 'Count', 'Rank']].to_records(index=False).tolist()"
   ]
  },
  {
   "cell_type": "code",
   "execution_count": null,
   "id": "3a358d93",
   "metadata": {},
   "outputs": [],
   "source": [
    "# Insert the data into the baby_names table\n",
    "cursor.executemany('INSERT INTO baby_names (Year_of_Birth, Gender, Ethnicity, Childs_First_Name, Count, Rank) VALUES (?, ?, ?, ?, ?, ?)', baby_names_data)"
   ]
  },
  {
   "cell_type": "code",
   "execution_count": null,
   "id": "f1001e12",
   "metadata": {},
   "outputs": [],
   "source": [
    "# Commit the changes and close the connection\n",
    "conn.commit()\n",
    "conn.close()"
   ]
  },
  {
   "cell_type": "code",
   "execution_count": null,
   "id": "65a47b52",
   "metadata": {},
   "outputs": [],
   "source": [
    "# Connect to the SQLite database\n",
    "conn = sqlite3.connect('Popular_Baby_Names.db')\n",
    "cursor = conn.cursor()\n",
    "\n",
    "# Execute a query to select all data from the baby_names table\n",
    "cursor.execute('''SELECT * FROM baby_names;''')\n",
    "\n",
    "# Fetch and print all the results\n",
    "rows = cursor.fetchall()\n",
    "\n",
    "# Check if there are results and display them\n",
    "if rows:\n",
    "    for row in rows:\n",
    "        print(row)\n",
    "else:\n",
    "    print(\"No data found.\")\n",
    "\n",
    "# Close the connection\n",
    "conn.close()"
   ]
  },
  {
   "cell_type": "markdown",
   "id": "72a71a16",
   "metadata": {},
   "source": [
    "## 2. Silver Layer: Data Cleaning & Validation "
   ]
  },
  {
   "cell_type": "markdown",
   "id": "0457a88f",
   "metadata": {},
   "source": [
    "- Read from the Bronze database.\n",
    "- Clean the data by removing duplicates.\n",
    "- Create a new Silver database with the cleaned data."
   ]
  },
  {
   "cell_type": "code",
   "execution_count": null,
   "id": "d43905e8",
   "metadata": {},
   "outputs": [],
   "source": [
    "conn = sqlite3.connect('Popular_Baby_Names.db')\n",
    "df = pd.read_sql_query('SELECT * FROM baby_names', conn)\n",
    "\n",
    "# Clean data: removing duplicates and null values\n",
    "df_cleaned = df.drop_duplicates().dropna()\n",
    "df_cleaned.columns = df_cleaned.columns.str.lower().str.replace(' ', '_')\n",
    "\n",
    "\n",
    "# Create Silver database\n",
    "conn_silver = sqlite3.connect('silver_popular_baby_names.db')\n",
    "df_cleaned.to_sql('baby_names', conn_silver, if_exists='replace', index=False)\n",
    "conn.close()\n",
    "conn_silver.close()"
   ]
  },
  {
   "cell_type": "code",
   "execution_count": null,
   "id": "13b83f55",
   "metadata": {},
   "outputs": [],
   "source": [
    "conn_silver = sqlite3.connect('silver_popular_baby_names.db')\n",
    "cursor = conn_silver.cursor()\n",
    "cursor.execute('''SELECT * FROM baby_names;''')\n",
    "\n",
    "# Fetch and print all the results\n",
    "rows = cursor.fetchall()\n",
    "\n",
    "# Check if there are results and display them\n",
    "if rows:\n",
    "    for row in rows:\n",
    "        print(row)\n",
    "else:\n",
    "    print(\"No data found.\")\n",
    "conn_silver.close()"
   ]
  },
  {
   "cell_type": "markdown",
   "id": "be6c9c67",
   "metadata": {},
   "source": [
    "## 3. Gold Layer: The final stage with enriched, business-ready data."
   ]
  },
  {
   "cell_type": "markdown",
   "id": "81d0d75e",
   "metadata": {},
   "source": [
    "- Read from the Silver database.\n",
    "- Create summary statistics (e.g., total count of babies by name and year).\n",
    "- Store this summary in the Gold database."
   ]
  },
  {
   "cell_type": "code",
   "execution_count": null,
   "id": "0f277ae4",
   "metadata": {},
   "outputs": [],
   "source": [
    "conn_silver = sqlite3.connect('silver_popular_baby_names.db')\n",
    "df = pd.read_sql_query('SELECT * from baby_names', conn_silver)\n",
    "\n",
    "# Create a summary table: number of babies by name and year\n",
    "df_summary = df.groupby(['year_of_birth', 'childs_first_name']).agg({'count': 'sum'}).reset_index()\n",
    "df_summary.columns = ['year_of_birth', 'childs_first_name', 'total_count']\n",
    "\n",
    "# Create Gold database\n",
    "conn_gold = sqlite3.connect('gold_popular_baby_names.db')\n",
    "df_summary.to_sql('baby_names_summary', conn_gold, if_exists='replace', index=False)\n",
    "conn_silver.close()\n",
    "conn_gold.close()"
   ]
  },
  {
   "cell_type": "code",
   "execution_count": null,
   "id": "d430fc55",
   "metadata": {},
   "outputs": [],
   "source": [
    "conn_gold = sqlite3.connect('gold_popular_baby_names.db') #try using func\n",
    "cursor = conn_gold.cursor()\n",
    "cursor.execute('''SELECT * FROM baby_names_summary;''')\n",
    "\n",
    "# Fetch and print all the results\n",
    "rows = cursor.fetchall()\n",
    "\n",
    "# Check if there are results and display them\n",
    "if rows:\n",
    "    for row in rows:\n",
    "        print(row)\n",
    "else:\n",
    "    print(\"No data found.\")\n",
    "conn_gold.close()"
   ]
  },
  {
   "cell_type": "markdown",
   "id": "bd6b9eab",
   "metadata": {},
   "source": [
    "\n"
   ]
  },
  {
   "cell_type": "code",
   "execution_count": null,
   "id": "5a903035",
   "metadata": {},
   "outputs": [],
   "source": []
  }
 ],
 "metadata": {
  "kernelspec": {
   "display_name": "Python 3 (ipykernel)",
   "language": "python",
   "name": "python3"
  },
  "language_info": {
   "codemirror_mode": {
    "name": "ipython",
    "version": 3
   },
   "file_extension": ".py",
   "mimetype": "text/x-python",
   "name": "python",
   "nbconvert_exporter": "python",
   "pygments_lexer": "ipython3",
   "version": "3.9.12"
  }
 },
 "nbformat": 4,
 "nbformat_minor": 5
}
