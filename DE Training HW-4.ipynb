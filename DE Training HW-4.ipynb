{
 "cells": [
  {
   "cell_type": "markdown",
   "id": "321a8595",
   "metadata": {},
   "source": [
    "## 1. Loading the dataset (Raw Data- Bronze Layer)"
   ]
  },
  {
   "cell_type": "code",
   "execution_count": null,
   "id": "6026f332",
   "metadata": {},
   "outputs": [],
   "source": [
    "import pandas as pd \n",
    "\n",
    "file_path = '/Users/lasya/Downloads/Mental_Health_Care_in_the_Last_4_Weeks.csv'\n",
    "df = pd.read_csv(file_path)\n",
    "\n",
    "df.head()"
   ]
  },
  {
   "cell_type": "markdown",
   "id": "a23cb099",
   "metadata": {},
   "source": [
    "## 2. Silver Layer: Data Cleaning and Transformation"
   ]
  },
  {
   "cell_type": "code",
   "execution_count": null,
   "id": "65eb8475",
   "metadata": {},
   "outputs": [],
   "source": [
    "# Let's check for null values \n",
    "\n",
    "df.isnull().sum().sum()"
   ]
  },
  {
   "cell_type": "code",
   "execution_count": null,
   "id": "609aa527",
   "metadata": {},
   "outputs": [],
   "source": [
    "# Check missing values per column\n",
    "missing_values = df.isnull().sum()\n",
    "print(missing_values[missing_values > 0])  # Display only columns with missing values"
   ]
  },
  {
   "cell_type": "code",
   "execution_count": null,
   "id": "af60993d",
   "metadata": {},
   "outputs": [],
   "source": [
    "# Calculate the percentage of missing values for each column\n",
    "missing_percentage = (df.isnull().sum() / len(df)) * 100"
   ]
  },
  {
   "cell_type": "code",
   "execution_count": null,
   "id": "ebe04dfd",
   "metadata": {},
   "outputs": [],
   "source": [
    "# Display only columns with missing values and their percentages\n",
    "missing_percentage = missing_percentage[missing_percentage > 0]\n",
    "print(missing_percentage)"
   ]
  },
  {
   "cell_type": "code",
   "execution_count": null,
   "id": "fae6b7f8",
   "metadata": {},
   "outputs": [],
   "source": [
    "# Let's drop Suppression Flag column \n",
    "\n",
    "df.drop(columns=['Suppression Flag'], inplace=True)"
   ]
  },
  {
   "cell_type": "code",
   "execution_count": null,
   "id": "af9c5eb4",
   "metadata": {},
   "outputs": [],
   "source": [
    "# Drop rows with missing values for the other columns\n",
    "\n",
    "df.dropna(subset=['Value', 'LowCI', 'HighCI', 'Confidence Interval'], inplace=True)"
   ]
  },
  {
   "cell_type": "code",
   "execution_count": null,
   "id": "a277a124",
   "metadata": {},
   "outputs": [],
   "source": [
    "df.isnull().sum().sum()"
   ]
  },
  {
   "cell_type": "code",
   "execution_count": null,
   "id": "ed577875",
   "metadata": {},
   "outputs": [],
   "source": [
    "# Drop the 'Quartile Range' column if it's not critical\n",
    "df.drop(columns=['Quartile Range'], inplace=True)"
   ]
  },
  {
   "cell_type": "code",
   "execution_count": null,
   "id": "96334e9b",
   "metadata": {},
   "outputs": [],
   "source": [
    "df.isnull().sum().sum()"
   ]
  },
  {
   "cell_type": "code",
   "execution_count": null,
   "id": "c538e258",
   "metadata": {},
   "outputs": [],
   "source": [
    "# Standardize Column Names\n",
    "df.columns = df.columns.str.lower().str.replace(' ', '_')\n",
    "df.columns"
   ]
  },
  {
   "cell_type": "code",
   "execution_count": null,
   "id": "98045285",
   "metadata": {},
   "outputs": [],
   "source": [
    "print(df.info())"
   ]
  },
  {
   "cell_type": "code",
   "execution_count": null,
   "id": "49ba24e6",
   "metadata": {},
   "outputs": [],
   "source": [
    "# Data Type Conversions\n",
    "\n",
    "df['time_period_start_date'] = pd.to_datetime(df['time_period_start_date'], errors='coerce')\n",
    "df['time_period_end_date'] = pd.to_datetime(df['time_period_end_date'], errors='coerce')"
   ]
  },
  {
   "cell_type": "code",
   "execution_count": null,
   "id": "db6dcb35",
   "metadata": {},
   "outputs": [],
   "source": [
    "# Remove duplicates \n",
    "\n",
    "df.drop_duplicates(inplace=True)"
   ]
  },
  {
   "cell_type": "code",
   "execution_count": null,
   "id": "c90c07eb",
   "metadata": {},
   "outputs": [],
   "source": [
    "print(df.info())\n",
    "print(df.head())"
   ]
  },
  {
   "cell_type": "code",
   "execution_count": null,
   "id": "d881f31d",
   "metadata": {},
   "outputs": [],
   "source": []
  }
 ],
 "metadata": {
  "kernelspec": {
   "display_name": "Python 3 (ipykernel)",
   "language": "python",
   "name": "python3"
  },
  "language_info": {
   "codemirror_mode": {
    "name": "ipython",
    "version": 3
   },
   "file_extension": ".py",
   "mimetype": "text/x-python",
   "name": "python",
   "nbconvert_exporter": "python",
   "pygments_lexer": "ipython3",
   "version": "3.9.12"
  }
 },
 "nbformat": 4,
 "nbformat_minor": 5
}
