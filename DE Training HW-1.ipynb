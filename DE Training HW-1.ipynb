{
 "cells": [
  {
   "cell_type": "code",
   "execution_count": 2,
   "id": "98a28293",
   "metadata": {},
   "outputs": [
    {
     "name": "stdout",
     "output_type": "stream",
     "text": [
      "8.14\n"
     ]
    }
   ],
   "source": [
    "x = 5\n",
    "y = 3.14\n",
    "\n",
    "result = x + y\n",
    "print(result)"
   ]
  },
  {
   "cell_type": "code",
   "execution_count": 3,
   "id": "42b50571",
   "metadata": {},
   "outputs": [
    {
     "name": "stdout",
     "output_type": "stream",
     "text": [
      "HELLO, JOHN\n"
     ]
    }
   ],
   "source": [
    "name = \"John\"\n",
    "is_active = True \n",
    "\n",
    "greeting = \"Hello, \" + name \n",
    "print(greeting.upper())"
   ]
  },
  {
   "cell_type": "code",
   "execution_count": 4,
   "id": "ac90f42a",
   "metadata": {},
   "outputs": [
    {
     "name": "stdout",
     "output_type": "stream",
     "text": [
      "x is 5\n"
     ]
    }
   ],
   "source": [
    "if x > 10:\n",
    "    print(\"x is large\")\n",
    "\n",
    "elif x == 5:\n",
    "    print(\"x is 5\")\n",
    "\n",
    "else:\n",
    "    print(\"x is small\")   "
   ]
  },
  {
   "cell_type": "code",
   "execution_count": 5,
   "id": "17249df9",
   "metadata": {},
   "outputs": [
    {
     "name": "stdout",
     "output_type": "stream",
     "text": [
      "0\n",
      "1\n",
      "2\n",
      "3\n",
      "4\n"
     ]
    }
   ],
   "source": [
    "for i in range(5):\n",
    "    print(i)"
   ]
  },
  {
   "cell_type": "code",
   "execution_count": null,
   "id": "a51ecc18",
   "metadata": {},
   "outputs": [],
   "source": [
    "squares = [i**2 for i in range(5)]"
   ]
  },
  {
   "cell_type": "code",
   "execution_count": 1,
   "id": "043e29df",
   "metadata": {},
   "outputs": [
    {
     "name": "stdout",
     "output_type": "stream",
     "text": [
      "8\n",
      "2.8284271247461903\n"
     ]
    }
   ],
   "source": [
    "import math \n",
    "add = lambda x, y: x + y \n",
    "print(add(5,3))\n",
    "print(math.sqrt(add(5,3)))"
   ]
  },
  {
   "cell_type": "code",
   "execution_count": 2,
   "id": "7ee82ee1",
   "metadata": {},
   "outputs": [
    {
     "name": "stdout",
     "output_type": "stream",
     "text": [
      "error 3\n"
     ]
    }
   ],
   "source": [
    "x = 10\n",
    "try:\n",
    "    result = x/y\n",
    "except ZeroDivisionError:\n",
    "        print(\"Cannot divide by zero!\")\n",
    "except TypeError: \n",
    "            print('error 2')\n",
    "except Exception as e:\n",
    "                print('error 3')"
   ]
  },
  {
   "cell_type": "code",
   "execution_count": 31,
   "id": "71c6a74e",
   "metadata": {},
   "outputs": [
    {
     "name": "stdout",
     "output_type": "stream",
     "text": [
      "4.428571428571429\n"
     ]
    }
   ],
   "source": [
    "# Homework Assignment\n",
    "\n",
    "#1 \n",
    "data = [1, 2, 3, 4, 5, 6, 10]\n",
    "\n",
    "total = sum(data)\n",
    "count = len(data)\n",
    "\n",
    "average = total / count\n",
    "\n",
    "print(average)"
   ]
  },
  {
   "cell_type": "code",
   "execution_count": 10,
   "id": "caf532d2",
   "metadata": {},
   "outputs": [
    {
     "name": "stdout",
     "output_type": "stream",
     "text": [
      "saL\n"
     ]
    }
   ],
   "source": [
    "#2\n",
    "\n",
    "def reverse_string(s):\n",
    "    reversed_str = \"\"\n",
    "    for char in s:\n",
    "        reversed_str = char + reversed_str\n",
    "    return reversed_str\n",
    "\n",
    "string1 = \"Las\"\n",
    "print(reverse_string(string1))"
   ]
  },
  {
   "cell_type": "code",
   "execution_count": 2,
   "id": "5eb2aaea",
   "metadata": {},
   "outputs": [],
   "source": [
    "#3\n",
    "\n",
    "def divide(x, y):\n",
    "    try: \n",
    "        division = lambda a, b: a/b # defining the func using lambda\n",
    "        return division(x,y)   \n",
    "        print(result)\n",
    "    except ZeroDivisionError:\n",
    "        print(\"Error: Division by zero is not allowed!\")\n",
    "    except TypeError:\n",
    "        print(\"Error: X and Y must be numbers.\")\n",
    "    except Exception as e:\n",
    "        print(\"Error: Something went wrong\")        "
   ]
  },
  {
   "cell_type": "code",
   "execution_count": 3,
   "id": "58bcbb51",
   "metadata": {},
   "outputs": [
    {
     "data": {
      "text/plain": [
       "5.0"
      ]
     },
     "execution_count": 3,
     "metadata": {},
     "output_type": "execute_result"
    }
   ],
   "source": [
    "divide(10,2)"
   ]
  },
  {
   "cell_type": "code",
   "execution_count": 4,
   "id": "92bd1345",
   "metadata": {},
   "outputs": [
    {
     "name": "stdout",
     "output_type": "stream",
     "text": [
      "Error: Division by zero is not allowed!\n"
     ]
    }
   ],
   "source": [
    "divide(10,0)"
   ]
  },
  {
   "cell_type": "code",
   "execution_count": 6,
   "id": "fb1e3069",
   "metadata": {},
   "outputs": [
    {
     "name": "stdout",
     "output_type": "stream",
     "text": [
      "Error: X and Y must be numbers.\n"
     ]
    }
   ],
   "source": [
    "divide(10, \"l\")"
   ]
  },
  {
   "cell_type": "code",
   "execution_count": null,
   "id": "5d813fc2",
   "metadata": {},
   "outputs": [],
   "source": [
    "# Every func should have return statement\n",
    "\n",
    "# Common Data Structures \n",
    "\n",
    "# Lists: Lists allow duplicates\n",
    "# Tuples: cannot make any changes and are ordered. Lists are slower whereas tuples are a bit faster. Loop: we use Tuples\n",
    "# Dictionaries: Key Value pairs for fast lookups\n",
    "# Sets: unordered and unique -- no duplicates \n",
    "\n",
    "# Most Common: Lists and Sets. \n",
    "\n",
    "#Sets also cannot be changed once defined\n",
    "\n",
    "#Can join two lists, can do many operations\n",
    "\n"
   ]
  },
  {
   "cell_type": "code",
   "execution_count": 8,
   "id": "9f5b631e",
   "metadata": {},
   "outputs": [
    {
     "name": "stdout",
     "output_type": "stream",
     "text": [
      "(1, 2, 3, 4)\n"
     ]
    }
   ],
   "source": [
    "#Tuple\n",
    "\n",
    "my_tuple = (1,2,3, 4)\n",
    "print(my_tuple)"
   ]
  },
  {
   "cell_type": "code",
   "execution_count": null,
   "id": "b84a83ad",
   "metadata": {},
   "outputs": [],
   "source": []
  },
  {
   "cell_type": "code",
   "execution_count": null,
   "id": "8fb5649b",
   "metadata": {},
   "outputs": [],
   "source": []
  },
  {
   "cell_type": "code",
   "execution_count": null,
   "id": "3dd1c16b",
   "metadata": {},
   "outputs": [],
   "source": []
  },
  {
   "cell_type": "code",
   "execution_count": null,
   "id": "bc3a4338",
   "metadata": {},
   "outputs": [],
   "source": []
  },
  {
   "cell_type": "code",
   "execution_count": null,
   "id": "97ec612b",
   "metadata": {},
   "outputs": [],
   "source": []
  },
  {
   "cell_type": "code",
   "execution_count": null,
   "id": "4653f519",
   "metadata": {},
   "outputs": [],
   "source": []
  },
  {
   "cell_type": "code",
   "execution_count": null,
   "id": "50c69ee8",
   "metadata": {},
   "outputs": [],
   "source": []
  },
  {
   "cell_type": "code",
   "execution_count": null,
   "id": "92d09ca2",
   "metadata": {},
   "outputs": [],
   "source": []
  },
  {
   "cell_type": "code",
   "execution_count": null,
   "id": "8bab81b5",
   "metadata": {},
   "outputs": [],
   "source": []
  }
 ],
 "metadata": {
  "kernelspec": {
   "display_name": "Python 3 (ipykernel)",
   "language": "python",
   "name": "python3"
  },
  "language_info": {
   "codemirror_mode": {
    "name": "ipython",
    "version": 3
   },
   "file_extension": ".py",
   "mimetype": "text/x-python",
   "name": "python",
   "nbconvert_exporter": "python",
   "pygments_lexer": "ipython3",
   "version": "3.9.12"
  }
 },
 "nbformat": 4,
 "nbformat_minor": 5
}
