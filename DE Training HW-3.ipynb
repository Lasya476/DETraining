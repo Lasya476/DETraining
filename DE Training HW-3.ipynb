{
 "cells": [
  {
   "cell_type": "markdown",
   "id": "c879b7bc",
   "metadata": {},
   "source": [
    "## 1. Data Loading and Basic Exploration"
   ]
  },
  {
   "cell_type": "code",
   "execution_count": 4,
   "id": "5be637b5",
   "metadata": {},
   "outputs": [
    {
     "data": {
      "text/html": [
       "<div>\n",
       "<style scoped>\n",
       "    .dataframe tbody tr th:only-of-type {\n",
       "        vertical-align: middle;\n",
       "    }\n",
       "\n",
       "    .dataframe tbody tr th {\n",
       "        vertical-align: top;\n",
       "    }\n",
       "\n",
       "    .dataframe thead th {\n",
       "        text-align: right;\n",
       "    }\n",
       "</style>\n",
       "<table border=\"1\" class=\"dataframe\">\n",
       "  <thead>\n",
       "    <tr style=\"text-align: right;\">\n",
       "      <th></th>\n",
       "      <th>DR_NO</th>\n",
       "      <th>Date Rptd</th>\n",
       "      <th>DATE OCC</th>\n",
       "      <th>TIME OCC</th>\n",
       "      <th>AREA</th>\n",
       "      <th>AREA NAME</th>\n",
       "      <th>Rpt Dist No</th>\n",
       "      <th>Part 1-2</th>\n",
       "      <th>Crm Cd</th>\n",
       "      <th>Crm Cd Desc</th>\n",
       "      <th>...</th>\n",
       "      <th>Status</th>\n",
       "      <th>Status Desc</th>\n",
       "      <th>Crm Cd 1</th>\n",
       "      <th>Crm Cd 2</th>\n",
       "      <th>Crm Cd 3</th>\n",
       "      <th>Crm Cd 4</th>\n",
       "      <th>LOCATION</th>\n",
       "      <th>Cross Street</th>\n",
       "      <th>LAT</th>\n",
       "      <th>LON</th>\n",
       "    </tr>\n",
       "  </thead>\n",
       "  <tbody>\n",
       "    <tr>\n",
       "      <th>0</th>\n",
       "      <td>190326475</td>\n",
       "      <td>03/01/2020 12:00:00 AM</td>\n",
       "      <td>03/01/2020 12:00:00 AM</td>\n",
       "      <td>2130</td>\n",
       "      <td>7</td>\n",
       "      <td>Wilshire</td>\n",
       "      <td>784</td>\n",
       "      <td>1</td>\n",
       "      <td>510</td>\n",
       "      <td>VEHICLE - STOLEN</td>\n",
       "      <td>...</td>\n",
       "      <td>AA</td>\n",
       "      <td>Adult Arrest</td>\n",
       "      <td>510.0</td>\n",
       "      <td>998.0</td>\n",
       "      <td>NaN</td>\n",
       "      <td>NaN</td>\n",
       "      <td>1900 S  LONGWOOD                     AV</td>\n",
       "      <td>NaN</td>\n",
       "      <td>34.0375</td>\n",
       "      <td>-118.3506</td>\n",
       "    </tr>\n",
       "    <tr>\n",
       "      <th>1</th>\n",
       "      <td>200106753</td>\n",
       "      <td>02/09/2020 12:00:00 AM</td>\n",
       "      <td>02/08/2020 12:00:00 AM</td>\n",
       "      <td>1800</td>\n",
       "      <td>1</td>\n",
       "      <td>Central</td>\n",
       "      <td>182</td>\n",
       "      <td>1</td>\n",
       "      <td>330</td>\n",
       "      <td>BURGLARY FROM VEHICLE</td>\n",
       "      <td>...</td>\n",
       "      <td>IC</td>\n",
       "      <td>Invest Cont</td>\n",
       "      <td>330.0</td>\n",
       "      <td>998.0</td>\n",
       "      <td>NaN</td>\n",
       "      <td>NaN</td>\n",
       "      <td>1000 S  FLOWER                       ST</td>\n",
       "      <td>NaN</td>\n",
       "      <td>34.0444</td>\n",
       "      <td>-118.2628</td>\n",
       "    </tr>\n",
       "    <tr>\n",
       "      <th>2</th>\n",
       "      <td>200320258</td>\n",
       "      <td>11/11/2020 12:00:00 AM</td>\n",
       "      <td>11/04/2020 12:00:00 AM</td>\n",
       "      <td>1700</td>\n",
       "      <td>3</td>\n",
       "      <td>Southwest</td>\n",
       "      <td>356</td>\n",
       "      <td>1</td>\n",
       "      <td>480</td>\n",
       "      <td>BIKE - STOLEN</td>\n",
       "      <td>...</td>\n",
       "      <td>IC</td>\n",
       "      <td>Invest Cont</td>\n",
       "      <td>480.0</td>\n",
       "      <td>NaN</td>\n",
       "      <td>NaN</td>\n",
       "      <td>NaN</td>\n",
       "      <td>1400 W  37TH                         ST</td>\n",
       "      <td>NaN</td>\n",
       "      <td>34.0210</td>\n",
       "      <td>-118.3002</td>\n",
       "    </tr>\n",
       "    <tr>\n",
       "      <th>3</th>\n",
       "      <td>200907217</td>\n",
       "      <td>05/10/2023 12:00:00 AM</td>\n",
       "      <td>03/10/2020 12:00:00 AM</td>\n",
       "      <td>2037</td>\n",
       "      <td>9</td>\n",
       "      <td>Van Nuys</td>\n",
       "      <td>964</td>\n",
       "      <td>1</td>\n",
       "      <td>343</td>\n",
       "      <td>SHOPLIFTING-GRAND THEFT ($950.01 &amp; OVER)</td>\n",
       "      <td>...</td>\n",
       "      <td>IC</td>\n",
       "      <td>Invest Cont</td>\n",
       "      <td>343.0</td>\n",
       "      <td>NaN</td>\n",
       "      <td>NaN</td>\n",
       "      <td>NaN</td>\n",
       "      <td>14000    RIVERSIDE                    DR</td>\n",
       "      <td>NaN</td>\n",
       "      <td>34.1576</td>\n",
       "      <td>-118.4387</td>\n",
       "    </tr>\n",
       "    <tr>\n",
       "      <th>4</th>\n",
       "      <td>220614831</td>\n",
       "      <td>08/18/2022 12:00:00 AM</td>\n",
       "      <td>08/17/2020 12:00:00 AM</td>\n",
       "      <td>1200</td>\n",
       "      <td>6</td>\n",
       "      <td>Hollywood</td>\n",
       "      <td>666</td>\n",
       "      <td>2</td>\n",
       "      <td>354</td>\n",
       "      <td>THEFT OF IDENTITY</td>\n",
       "      <td>...</td>\n",
       "      <td>IC</td>\n",
       "      <td>Invest Cont</td>\n",
       "      <td>354.0</td>\n",
       "      <td>NaN</td>\n",
       "      <td>NaN</td>\n",
       "      <td>NaN</td>\n",
       "      <td>1900    TRANSIENT</td>\n",
       "      <td>NaN</td>\n",
       "      <td>34.0944</td>\n",
       "      <td>-118.3277</td>\n",
       "    </tr>\n",
       "  </tbody>\n",
       "</table>\n",
       "<p>5 rows × 28 columns</p>\n",
       "</div>"
      ],
      "text/plain": [
       "       DR_NO               Date Rptd                DATE OCC  TIME OCC  AREA  \\\n",
       "0  190326475  03/01/2020 12:00:00 AM  03/01/2020 12:00:00 AM      2130     7   \n",
       "1  200106753  02/09/2020 12:00:00 AM  02/08/2020 12:00:00 AM      1800     1   \n",
       "2  200320258  11/11/2020 12:00:00 AM  11/04/2020 12:00:00 AM      1700     3   \n",
       "3  200907217  05/10/2023 12:00:00 AM  03/10/2020 12:00:00 AM      2037     9   \n",
       "4  220614831  08/18/2022 12:00:00 AM  08/17/2020 12:00:00 AM      1200     6   \n",
       "\n",
       "   AREA NAME  Rpt Dist No  Part 1-2  Crm Cd  \\\n",
       "0   Wilshire          784         1     510   \n",
       "1    Central          182         1     330   \n",
       "2  Southwest          356         1     480   \n",
       "3   Van Nuys          964         1     343   \n",
       "4  Hollywood          666         2     354   \n",
       "\n",
       "                                Crm Cd Desc  ... Status   Status Desc  \\\n",
       "0                          VEHICLE - STOLEN  ...     AA  Adult Arrest   \n",
       "1                     BURGLARY FROM VEHICLE  ...     IC   Invest Cont   \n",
       "2                             BIKE - STOLEN  ...     IC   Invest Cont   \n",
       "3  SHOPLIFTING-GRAND THEFT ($950.01 & OVER)  ...     IC   Invest Cont   \n",
       "4                         THEFT OF IDENTITY  ...     IC   Invest Cont   \n",
       "\n",
       "  Crm Cd 1 Crm Cd 2  Crm Cd 3 Crm Cd 4  \\\n",
       "0    510.0    998.0       NaN      NaN   \n",
       "1    330.0    998.0       NaN      NaN   \n",
       "2    480.0      NaN       NaN      NaN   \n",
       "3    343.0      NaN       NaN      NaN   \n",
       "4    354.0      NaN       NaN      NaN   \n",
       "\n",
       "                                   LOCATION Cross Street      LAT       LON  \n",
       "0   1900 S  LONGWOOD                     AV          NaN  34.0375 -118.3506  \n",
       "1   1000 S  FLOWER                       ST          NaN  34.0444 -118.2628  \n",
       "2   1400 W  37TH                         ST          NaN  34.0210 -118.3002  \n",
       "3  14000    RIVERSIDE                    DR          NaN  34.1576 -118.4387  \n",
       "4                         1900    TRANSIENT          NaN  34.0944 -118.3277  \n",
       "\n",
       "[5 rows x 28 columns]"
      ]
     },
     "execution_count": 4,
     "metadata": {},
     "output_type": "execute_result"
    }
   ],
   "source": [
    "import pandas as pd\n",
    "\n",
    "df = pd.read_csv('/Users/lasya/Downloads/Crime_Data_from_2020_to_Present-2.csv') #loading csv\n",
    "\n",
    "df.head(5)"
   ]
  },
  {
   "cell_type": "code",
   "execution_count": 5,
   "id": "02403d21",
   "metadata": {},
   "outputs": [
    {
     "data": {
      "text/plain": [
       "(986500, 28)"
      ]
     },
     "execution_count": 5,
     "metadata": {},
     "output_type": "execute_result"
    }
   ],
   "source": [
    "# Structure of the dataset\n",
    "df.shape"
   ]
  },
  {
   "cell_type": "code",
   "execution_count": 6,
   "id": "d1d9b1a8",
   "metadata": {},
   "outputs": [
    {
     "data": {
      "text/plain": [
       "Index(['DR_NO', 'Date Rptd', 'DATE OCC', 'TIME OCC', 'AREA', 'AREA NAME',\n",
       "       'Rpt Dist No', 'Part 1-2', 'Crm Cd', 'Crm Cd Desc', 'Mocodes',\n",
       "       'Vict Age', 'Vict Sex', 'Vict Descent', 'Premis Cd', 'Premis Desc',\n",
       "       'Weapon Used Cd', 'Weapon Desc', 'Status', 'Status Desc', 'Crm Cd 1',\n",
       "       'Crm Cd 2', 'Crm Cd 3', 'Crm Cd 4', 'LOCATION', 'Cross Street', 'LAT',\n",
       "       'LON'],\n",
       "      dtype='object')"
      ]
     },
     "execution_count": 6,
     "metadata": {},
     "output_type": "execute_result"
    }
   ],
   "source": [
    "# Display the column names\n",
    "df.columns"
   ]
  },
  {
   "cell_type": "code",
   "execution_count": 7,
   "id": "cc123280",
   "metadata": {},
   "outputs": [
    {
     "name": "stdout",
     "output_type": "stream",
     "text": [
      "Is 'DR_NO' a unique identifier? True\n"
     ]
    }
   ],
   "source": [
    "# Looking at the dataset, DR_NO could be a potential unique identifier \n",
    "\n",
    "potential_unique_identifier = 'DR_NO'\n",
    "is_unique = df[potential_unique_identifier].is_unique\n",
    "\n",
    "print(f\"Is '{potential_unique_identifier}' a unique identifier? {is_unique}\")"
   ]
  },
  {
   "cell_type": "code",
   "execution_count": 8,
   "id": "5c57b664",
   "metadata": {},
   "outputs": [
    {
     "data": {
      "text/plain": [
       "DR_NO               int64\n",
       "Date Rptd          object\n",
       "DATE OCC           object\n",
       "TIME OCC            int64\n",
       "AREA                int64\n",
       "AREA NAME          object\n",
       "Rpt Dist No         int64\n",
       "Part 1-2            int64\n",
       "Crm Cd              int64\n",
       "Crm Cd Desc        object\n",
       "Mocodes            object\n",
       "Vict Age            int64\n",
       "Vict Sex           object\n",
       "Vict Descent       object\n",
       "Premis Cd         float64\n",
       "Premis Desc        object\n",
       "Weapon Used Cd    float64\n",
       "Weapon Desc        object\n",
       "Status             object\n",
       "Status Desc        object\n",
       "Crm Cd 1          float64\n",
       "Crm Cd 2          float64\n",
       "Crm Cd 3          float64\n",
       "Crm Cd 4          float64\n",
       "LOCATION           object\n",
       "Cross Street       object\n",
       "LAT               float64\n",
       "LON               float64\n",
       "dtype: object"
      ]
     },
     "execution_count": 8,
     "metadata": {},
     "output_type": "execute_result"
    }
   ],
   "source": [
    "# Data types \n",
    "df.dtypes"
   ]
  },
  {
   "cell_type": "code",
   "execution_count": 9,
   "id": "5c3d5040",
   "metadata": {},
   "outputs": [
    {
     "data": {
      "text/plain": [
       "5468915"
      ]
     },
     "execution_count": 9,
     "metadata": {},
     "output_type": "execute_result"
    }
   ],
   "source": [
    "# Checking if there are any null values \n",
    "df.isnull().sum().sum()"
   ]
  },
  {
   "cell_type": "code",
   "execution_count": 10,
   "id": "af247e30",
   "metadata": {},
   "outputs": [
    {
     "name": "stdout",
     "output_type": "stream",
     "text": [
      "Mocodes           146435\n",
      "Vict Sex          139575\n",
      "Vict Descent      139586\n",
      "Premis Cd             14\n",
      "Premis Desc          585\n",
      "Weapon Used Cd    660132\n",
      "Weapon Desc       660132\n",
      "Status                 1\n",
      "Crm Cd 1              11\n",
      "Crm Cd 2          917588\n",
      "Crm Cd 3          984190\n",
      "Crm Cd 4          986436\n",
      "Cross Street      834230\n",
      "dtype: int64\n"
     ]
    }
   ],
   "source": [
    "# Check missing values per column\n",
    "missing_values = df.isnull().sum()\n",
    "print(missing_values[missing_values > 0])  # Display only columns with missing values"
   ]
  },
  {
   "cell_type": "code",
   "execution_count": 11,
   "id": "bd51206b",
   "metadata": {},
   "outputs": [],
   "source": [
    "# Calculate the percentage of missing values for each column\n",
    "missing_percentage = (df.isnull().sum() / len(df)) * 100"
   ]
  },
  {
   "cell_type": "code",
   "execution_count": 12,
   "id": "91618cf0",
   "metadata": {},
   "outputs": [
    {
     "name": "stdout",
     "output_type": "stream",
     "text": [
      "Mocodes           14.843893\n",
      "Vict Sex          14.148505\n",
      "Vict Descent      14.149620\n",
      "Premis Cd          0.001419\n",
      "Premis Desc        0.059301\n",
      "Weapon Used Cd    66.916574\n",
      "Weapon Desc       66.916574\n",
      "Status             0.000101\n",
      "Crm Cd 1           0.001115\n",
      "Crm Cd 2          93.014496\n",
      "Crm Cd 3          99.765839\n",
      "Crm Cd 4          99.993512\n",
      "Cross Street      84.564622\n",
      "dtype: float64\n"
     ]
    }
   ],
   "source": [
    "# Display only columns with missing values and their percentages\n",
    "missing_percentage = missing_percentage[missing_percentage > 0]\n",
    "print(missing_percentage)"
   ]
  },
  {
   "cell_type": "code",
   "execution_count": 13,
   "id": "6b18468b",
   "metadata": {},
   "outputs": [],
   "source": [
    "# Dropping columns with very high missing percentages \n",
    "# because columns with over 80% missing provided only limited value for analysis.\n",
    "\n",
    "\n",
    "# We could either fill or drop, but filling here in our case would potentially reduce accuracy and quality of analysis\n",
    "\n",
    "# Hence we drop columns with high missing percentages\n",
    "\n",
    "# Set a threshold and remove columns with missing values above that threshold\n",
    "\n",
    "threshold = 80\n",
    "\n",
    "# Calculate the percentage of missing values for each column\n",
    "missing_percentage = (df.isnull().sum() / len(df)) * 100\n",
    "\n",
    "# Identify columns to drop - those with missing percentage above the threshold\n",
    "columns_to_drop = missing_percentage[missing_percentage > threshold].index\n",
    "\n",
    "# Now drop the identified columns\n",
    "df = df.drop(columns=columns_to_drop)\n"
   ]
  },
  {
   "cell_type": "code",
   "execution_count": 14,
   "id": "7b14b944",
   "metadata": {},
   "outputs": [
    {
     "name": "stdout",
     "output_type": "stream",
     "text": [
      "Columns dropped: Index(['Crm Cd 2', 'Crm Cd 3', 'Crm Cd 4', 'Cross Street'], dtype='object')\n"
     ]
    }
   ],
   "source": [
    "# Print the columns that are dropped\n",
    "print(\"Columns dropped:\", columns_to_drop)"
   ]
  },
  {
   "cell_type": "code",
   "execution_count": 15,
   "id": "9e095441",
   "metadata": {},
   "outputs": [
    {
     "name": "stdout",
     "output_type": "stream",
     "text": [
      "Remaining columns: Index(['DR_NO', 'Date Rptd', 'DATE OCC', 'TIME OCC', 'AREA', 'AREA NAME',\n",
      "       'Rpt Dist No', 'Part 1-2', 'Crm Cd', 'Crm Cd Desc', 'Mocodes',\n",
      "       'Vict Age', 'Vict Sex', 'Vict Descent', 'Premis Cd', 'Premis Desc',\n",
      "       'Weapon Used Cd', 'Weapon Desc', 'Status', 'Status Desc', 'Crm Cd 1',\n",
      "       'LOCATION', 'LAT', 'LON'],\n",
      "      dtype='object')\n"
     ]
    }
   ],
   "source": [
    "# Print the remaining columns \n",
    "\n",
    "print(\"Remaining columns:\", df.columns)"
   ]
  },
  {
   "cell_type": "code",
   "execution_count": 16,
   "id": "52353061",
   "metadata": {},
   "outputs": [
    {
     "name": "stdout",
     "output_type": "stream",
     "text": [
      "Remaining columns with missing values and their percentages:\n",
      "Mocodes           14.843893\n",
      "Vict Sex          14.148505\n",
      "Vict Descent      14.149620\n",
      "Premis Cd          0.001419\n",
      "Premis Desc        0.059301\n",
      "Weapon Used Cd    66.916574\n",
      "Weapon Desc       66.916574\n",
      "Status             0.000101\n",
      "Crm Cd 1           0.001115\n",
      "dtype: float64\n"
     ]
    }
   ],
   "source": [
    "# Recalculate the percentage of missing values after dropping high-missing columns\n",
    "remaining_missing_percentage = (df.isnull().sum() / len(df)) * 100\n",
    "\n",
    "# Display only columns with missing values\n",
    "remaining_missing_percentage = remaining_missing_percentage[remaining_missing_percentage > 0]\n",
    "print(\"Remaining columns with missing values and their percentages:\")\n",
    "print(remaining_missing_percentage)"
   ]
  },
  {
   "cell_type": "code",
   "execution_count": 17,
   "id": "5653abe2",
   "metadata": {},
   "outputs": [
    {
     "name": "stdout",
     "output_type": "stream",
     "text": [
      "Remaining columns: Index(['DR_NO', 'Date Rptd', 'DATE OCC', 'TIME OCC', 'AREA', 'AREA NAME',\n",
      "       'Rpt Dist No', 'Part 1-2', 'Crm Cd', 'Crm Cd Desc', 'Mocodes',\n",
      "       'Vict Age', 'Vict Sex', 'Vict Descent', 'Premis Cd', 'Premis Desc',\n",
      "       'Status', 'Status Desc', 'Crm Cd 1', 'LOCATION', 'LAT', 'LON'],\n",
      "      dtype='object')\n"
     ]
    }
   ],
   "source": [
    "# Remaining Columns with High Missing Value Percentage (~67%): Weapon Used Cd & Weapon Desc\n",
    "# Since we are only focusing on Time Series Trends and Severity Analysis, these columns are of little value to our analysis.\n",
    "# Hence we drop these columns to maintain data quality \n",
    "\n",
    "\n",
    "# Drop Weapon Used Cd and Weapon Desc columns\n",
    "df = df.drop(columns=['Weapon Used Cd', 'Weapon Desc'])\n",
    "\n",
    "# Verify the columns have been dropped\n",
    "print(\"Remaining columns:\", df.columns)"
   ]
  },
  {
   "cell_type": "code",
   "execution_count": 18,
   "id": "d228bc2c",
   "metadata": {},
   "outputs": [],
   "source": [
    "# Filling Moderate Missing Values (~14%): Mocodes, Vict Sex, Vict Descent\n",
    "# Since these columns are categorical and not numerical, we can fill these columns with mode (most common value)\n",
    "\n",
    "# Fill moderate missing columns with the mode \n",
    "for column in ['Mocodes', 'Vict Sex', 'Vict Descent']:\n",
    "    df[column].fillna(df[column].mode()[0], inplace=True)"
   ]
  },
  {
   "cell_type": "code",
   "execution_count": 19,
   "id": "7e51e3a7",
   "metadata": {},
   "outputs": [
    {
     "data": {
      "text/html": [
       "<div>\n",
       "<style scoped>\n",
       "    .dataframe tbody tr th:only-of-type {\n",
       "        vertical-align: middle;\n",
       "    }\n",
       "\n",
       "    .dataframe tbody tr th {\n",
       "        vertical-align: top;\n",
       "    }\n",
       "\n",
       "    .dataframe thead th {\n",
       "        text-align: right;\n",
       "    }\n",
       "</style>\n",
       "<table border=\"1\" class=\"dataframe\">\n",
       "  <thead>\n",
       "    <tr style=\"text-align: right;\">\n",
       "      <th></th>\n",
       "      <th>Mocodes</th>\n",
       "      <th>Vict Sex</th>\n",
       "      <th>Vict Descent</th>\n",
       "    </tr>\n",
       "  </thead>\n",
       "  <tbody>\n",
       "    <tr>\n",
       "      <th>547250</th>\n",
       "      <td>1822 0358 1402 0325 1601</td>\n",
       "      <td>X</td>\n",
       "      <td>X</td>\n",
       "    </tr>\n",
       "    <tr>\n",
       "      <th>331121</th>\n",
       "      <td>1258 0416 0602 0553</td>\n",
       "      <td>M</td>\n",
       "      <td>H</td>\n",
       "    </tr>\n",
       "    <tr>\n",
       "      <th>471509</th>\n",
       "      <td>1822 0104 0325</td>\n",
       "      <td>M</td>\n",
       "      <td>W</td>\n",
       "    </tr>\n",
       "    <tr>\n",
       "      <th>951099</th>\n",
       "      <td>1822 0910 2052 1501</td>\n",
       "      <td>X</td>\n",
       "      <td>X</td>\n",
       "    </tr>\n",
       "    <tr>\n",
       "      <th>629294</th>\n",
       "      <td>0443 1822 1218 0906 2004</td>\n",
       "      <td>F</td>\n",
       "      <td>B</td>\n",
       "    </tr>\n",
       "    <tr>\n",
       "      <th>185912</th>\n",
       "      <td>0416 0447 0342 0327 1309</td>\n",
       "      <td>M</td>\n",
       "      <td>H</td>\n",
       "    </tr>\n",
       "    <tr>\n",
       "      <th>209966</th>\n",
       "      <td>0344 0913 2004</td>\n",
       "      <td>F</td>\n",
       "      <td>H</td>\n",
       "    </tr>\n",
       "    <tr>\n",
       "      <th>430443</th>\n",
       "      <td>0344 0397</td>\n",
       "      <td>F</td>\n",
       "      <td>B</td>\n",
       "    </tr>\n",
       "    <tr>\n",
       "      <th>719189</th>\n",
       "      <td>1300 0344</td>\n",
       "      <td>F</td>\n",
       "      <td>H</td>\n",
       "    </tr>\n",
       "    <tr>\n",
       "      <th>422415</th>\n",
       "      <td>0416</td>\n",
       "      <td>M</td>\n",
       "      <td>W</td>\n",
       "    </tr>\n",
       "  </tbody>\n",
       "</table>\n",
       "</div>"
      ],
      "text/plain": [
       "                         Mocodes Vict Sex Vict Descent\n",
       "547250  1822 0358 1402 0325 1601        X            X\n",
       "331121       1258 0416 0602 0553        M            H\n",
       "471509            1822 0104 0325        M            W\n",
       "951099       1822 0910 2052 1501        X            X\n",
       "629294  0443 1822 1218 0906 2004        F            B\n",
       "185912  0416 0447 0342 0327 1309        M            H\n",
       "209966            0344 0913 2004        F            H\n",
       "430443                 0344 0397        F            B\n",
       "719189                 1300 0344        F            H\n",
       "422415                      0416        M            W"
      ]
     },
     "execution_count": 19,
     "metadata": {},
     "output_type": "execute_result"
    }
   ],
   "source": [
    "# Display a random sample of rows to verify\n",
    "df[['Mocodes', 'Vict Sex', 'Vict Descent']].sample(10)"
   ]
  },
  {
   "cell_type": "code",
   "execution_count": 20,
   "id": "8793bdae",
   "metadata": {},
   "outputs": [
    {
     "name": "stdout",
     "output_type": "stream",
     "text": [
      "Mocodes         0\n",
      "Vict Sex        0\n",
      "Vict Descent    0\n",
      "dtype: int64\n"
     ]
    }
   ],
   "source": [
    "# Verify if the nulls values are filled\n",
    "\n",
    "print(df[['Mocodes', 'Vict Sex', 'Vict Descent']].isnull().sum()) "
   ]
  },
  {
   "cell_type": "code",
   "execution_count": 21,
   "id": "8b69b71e",
   "metadata": {},
   "outputs": [
    {
     "name": "stdout",
     "output_type": "stream",
     "text": [
      "Premis Cd      0\n",
      "Premis Desc    0\n",
      "Status         0\n",
      "Crm Cd 1       0\n",
      "dtype: int64\n"
     ]
    }
   ],
   "source": [
    "# Drop rows that have really low missing values (~1%): 'Premis Cd', 'Premis Desc', 'Status', 'Crm Cd 1'\n",
    "# This has minimal impact on the dataset overall\n",
    "\n",
    "# Drop rows with low missing columns\n",
    "df = df.dropna(subset=['Premis Cd', 'Premis Desc', 'Status', 'Crm Cd 1'])\n",
    "\n",
    "# Verify that there are no missing values left in these columns\n",
    "print(df[['Premis Cd', 'Premis Desc', 'Status', 'Crm Cd 1']].isnull().sum())"
   ]
  },
  {
   "cell_type": "code",
   "execution_count": 22,
   "id": "cbe297dc",
   "metadata": {},
   "outputs": [
    {
     "name": "stdout",
     "output_type": "stream",
     "text": [
      "Columns with remaining null values:\n",
      "Series([], dtype: int64)\n"
     ]
    }
   ],
   "source": [
    "# Check for any remaining null values in the entire DataFrame\n",
    "\n",
    "null_count = df.isnull().sum()\n",
    "print(\"Columns with remaining null values:\")\n",
    "print(null_count[null_count > 0])"
   ]
  },
  {
   "cell_type": "markdown",
   "id": "fdcbff39",
   "metadata": {},
   "source": [
    "## 2. Data Cleaning and Transformation "
   ]
  },
  {
   "cell_type": "code",
   "execution_count": 23,
   "id": "28d43ffc",
   "metadata": {},
   "outputs": [
    {
     "name": "stdout",
     "output_type": "stream",
     "text": [
      "0: 'DR_NO'\n",
      "1: 'Date Rptd'\n",
      "2: 'DATE OCC'\n",
      "3: 'TIME OCC'\n",
      "4: 'AREA'\n",
      "5: 'AREA NAME'\n",
      "6: 'Rpt Dist No'\n",
      "7: 'Part 1-2'\n",
      "8: 'Crm Cd'\n",
      "9: 'Crm Cd Desc'\n",
      "10: 'Mocodes'\n",
      "11: 'Vict Age'\n",
      "12: 'Vict Sex'\n",
      "13: 'Vict Descent'\n",
      "14: 'Premis Cd'\n",
      "15: 'Premis Desc'\n",
      "16: 'Status'\n",
      "17: 'Status Desc'\n",
      "18: 'Crm Cd 1'\n",
      "19: 'LOCATION'\n",
      "20: 'LAT'\n",
      "21: 'LON'\n"
     ]
    }
   ],
   "source": [
    "# Print each column name with its index for inspection\n",
    "for i, col in enumerate(df.columns):\n",
    "    print(f\"{i}: '{col}'\")"
   ]
  },
  {
   "cell_type": "code",
   "execution_count": 24,
   "id": "3fdce38b",
   "metadata": {},
   "outputs": [
    {
     "data": {
      "text/plain": [
       "DR_NO             int64\n",
       "Date Rptd        object\n",
       "DATE OCC         object\n",
       "TIME OCC          int64\n",
       "AREA              int64\n",
       "AREA NAME        object\n",
       "Rpt Dist No       int64\n",
       "Part 1-2          int64\n",
       "Crm Cd            int64\n",
       "Crm Cd Desc      object\n",
       "Mocodes          object\n",
       "Vict Age          int64\n",
       "Vict Sex         object\n",
       "Vict Descent     object\n",
       "Premis Cd       float64\n",
       "Premis Desc      object\n",
       "Status           object\n",
       "Status Desc      object\n",
       "Crm Cd 1        float64\n",
       "LOCATION         object\n",
       "LAT             float64\n",
       "LON             float64\n",
       "dtype: object"
      ]
     },
     "execution_count": 24,
     "metadata": {},
     "output_type": "execute_result"
    }
   ],
   "source": [
    "df.dtypes"
   ]
  },
  {
   "cell_type": "code",
   "execution_count": 25,
   "id": "4ddf89f1",
   "metadata": {},
   "outputs": [
    {
     "name": "stdout",
     "output_type": "stream",
     "text": [
      "Transformed column names: Index(['dr_no', 'date_rptd', 'date_occ', 'time_occ', 'area', 'area_name',\n",
      "       'rpt_dist_no', 'part_1-2', 'crm_cd', 'crm_cd_desc', 'mocodes',\n",
      "       'vict_age', 'vict_sex', 'vict_descent', 'premis_cd', 'premis_desc',\n",
      "       'status', 'status_desc', 'crm_cd_1', 'location', 'lat', 'lon'],\n",
      "      dtype='object')\n"
     ]
    }
   ],
   "source": [
    "# Create a temporary list of transformed column names\n",
    "temp_columns = df.columns.str.strip().str.lower().str.replace(r'\\s+', '_', regex=True)\n",
    "\n",
    "# Display the transformed column names to confirm the format\n",
    "print(\"Transformed column names:\", temp_columns)"
   ]
  },
  {
   "cell_type": "code",
   "execution_count": 26,
   "id": "d4976006",
   "metadata": {},
   "outputs": [
    {
     "name": "stdout",
     "output_type": "stream",
     "text": [
      "Updated DataFrame column names: Index(['dr_no', 'date_rptd', 'date_occ', 'time_occ', 'area', 'area_name',\n",
      "       'rpt_dist_no', 'part_1-2', 'crm_cd', 'crm_cd_desc', 'mocodes',\n",
      "       'vict_age', 'vict_sex', 'vict_descent', 'premis_cd', 'premis_desc',\n",
      "       'status', 'status_desc', 'crm_cd_1', 'location', 'lat', 'lon'],\n",
      "      dtype='object')\n"
     ]
    }
   ],
   "source": [
    "# Apply the transformed column names to the DataFrame\n",
    "df.columns = temp_columns\n",
    "\n",
    "# Verify the updated column names in df\n",
    "print(\"Updated DataFrame column names:\", df.columns)"
   ]
  },
  {
   "cell_type": "code",
   "execution_count": 27,
   "id": "0e9c6037",
   "metadata": {},
   "outputs": [],
   "source": [
    "# Extract Date and Time Components: extract the year, month, day, and hour into new columns.\n",
    "\n",
    "# Convert both 'date_occ' and 'date_rptd' to datetime format \n",
    "df['date_occ'] = pd.to_datetime(df['date_occ'], format='%m/%d/%Y %I:%M:%S %p', errors='coerce')\n",
    "df['date_rptd'] = pd.to_datetime(df['date_rptd'], format='%m/%d/%Y %I:%M:%S %p', errors='coerce')\n"
   ]
  },
  {
   "cell_type": "code",
   "execution_count": 28,
   "id": "fea94281",
   "metadata": {},
   "outputs": [
    {
     "name": "stdout",
     "output_type": "stream",
     "text": [
      "    date_occ  date_rptd\n",
      "0 2020-03-01 2020-03-01\n",
      "1 2020-02-08 2020-02-09\n",
      "2 2020-11-04 2020-11-11\n",
      "3 2020-03-10 2023-05-10\n",
      "4 2020-08-17 2022-08-18\n",
      "5 2020-12-01 2023-04-04\n",
      "6 2020-07-03 2023-04-04\n",
      "7 2020-05-12 2022-07-22\n",
      "8 2020-12-09 2023-04-28\n",
      "9 2020-12-31 2020-12-31\n"
     ]
    }
   ],
   "source": [
    "print(df[['date_occ', 'date_rptd']].head(10))"
   ]
  },
  {
   "cell_type": "code",
   "execution_count": 29,
   "id": "2f3b08bb",
   "metadata": {},
   "outputs": [],
   "source": [
    "#df_original = pd.read_csv('/Users/lasya/Downloads/Crime_Data_from_2020_to_Present-2.csv')\n",
    "#print(\"Column names in the original data:\", df_original.columns)"
   ]
  },
  {
   "cell_type": "code",
   "execution_count": 30,
   "id": "1a1b205d",
   "metadata": {},
   "outputs": [],
   "source": [
    "# print(df_original[['DATE OCC', 'Date Rptd']])"
   ]
  },
  {
   "cell_type": "code",
   "execution_count": null,
   "id": "bdc3863e",
   "metadata": {},
   "outputs": [],
   "source": []
  },
  {
   "cell_type": "code",
   "execution_count": 31,
   "id": "03094856",
   "metadata": {},
   "outputs": [],
   "source": [
    "# Extract year, month, and day for both date columns\n",
    "df['occ_year'] = df['date_occ'].dt.year\n",
    "df['occ_month'] = df['date_occ'].dt.month\n",
    "df['occ_day'] = df['date_occ'].dt.day\n",
    "\n",
    "df['rpt_year'] = df['date_rptd'].dt.year\n",
    "df['rpt_month'] = df['date_rptd'].dt.month\n",
    "df['rpt_day'] = df['date_rptd'].dt.day\n",
    "df['occ_hr'] = pd.to_datetime(df['time_occ'].astype(str).str.zfill(4), format='%H%M').dt.hour\n",
    "\n"
   ]
  },
  {
   "cell_type": "code",
   "execution_count": 32,
   "id": "7626e6e7",
   "metadata": {},
   "outputs": [
    {
     "data": {
      "text/html": [
       "<div>\n",
       "<style scoped>\n",
       "    .dataframe tbody tr th:only-of-type {\n",
       "        vertical-align: middle;\n",
       "    }\n",
       "\n",
       "    .dataframe tbody tr th {\n",
       "        vertical-align: top;\n",
       "    }\n",
       "\n",
       "    .dataframe thead th {\n",
       "        text-align: right;\n",
       "    }\n",
       "</style>\n",
       "<table border=\"1\" class=\"dataframe\">\n",
       "  <thead>\n",
       "    <tr style=\"text-align: right;\">\n",
       "      <th></th>\n",
       "      <th>date_occ</th>\n",
       "      <th>occ_year</th>\n",
       "      <th>occ_month</th>\n",
       "      <th>occ_day</th>\n",
       "      <th>date_rptd</th>\n",
       "      <th>rpt_year</th>\n",
       "      <th>rpt_month</th>\n",
       "      <th>rpt_day</th>\n",
       "      <th>time_occ</th>\n",
       "      <th>occ_hr</th>\n",
       "    </tr>\n",
       "  </thead>\n",
       "  <tbody>\n",
       "    <tr>\n",
       "      <th>0</th>\n",
       "      <td>2020-03-01</td>\n",
       "      <td>2020</td>\n",
       "      <td>3</td>\n",
       "      <td>1</td>\n",
       "      <td>2020-03-01</td>\n",
       "      <td>2020</td>\n",
       "      <td>3</td>\n",
       "      <td>1</td>\n",
       "      <td>2130</td>\n",
       "      <td>21</td>\n",
       "    </tr>\n",
       "    <tr>\n",
       "      <th>1</th>\n",
       "      <td>2020-02-08</td>\n",
       "      <td>2020</td>\n",
       "      <td>2</td>\n",
       "      <td>8</td>\n",
       "      <td>2020-02-09</td>\n",
       "      <td>2020</td>\n",
       "      <td>2</td>\n",
       "      <td>9</td>\n",
       "      <td>1800</td>\n",
       "      <td>18</td>\n",
       "    </tr>\n",
       "    <tr>\n",
       "      <th>2</th>\n",
       "      <td>2020-11-04</td>\n",
       "      <td>2020</td>\n",
       "      <td>11</td>\n",
       "      <td>4</td>\n",
       "      <td>2020-11-11</td>\n",
       "      <td>2020</td>\n",
       "      <td>11</td>\n",
       "      <td>11</td>\n",
       "      <td>1700</td>\n",
       "      <td>17</td>\n",
       "    </tr>\n",
       "    <tr>\n",
       "      <th>3</th>\n",
       "      <td>2020-03-10</td>\n",
       "      <td>2020</td>\n",
       "      <td>3</td>\n",
       "      <td>10</td>\n",
       "      <td>2023-05-10</td>\n",
       "      <td>2023</td>\n",
       "      <td>5</td>\n",
       "      <td>10</td>\n",
       "      <td>2037</td>\n",
       "      <td>20</td>\n",
       "    </tr>\n",
       "    <tr>\n",
       "      <th>4</th>\n",
       "      <td>2020-08-17</td>\n",
       "      <td>2020</td>\n",
       "      <td>8</td>\n",
       "      <td>17</td>\n",
       "      <td>2022-08-18</td>\n",
       "      <td>2022</td>\n",
       "      <td>8</td>\n",
       "      <td>18</td>\n",
       "      <td>1200</td>\n",
       "      <td>12</td>\n",
       "    </tr>\n",
       "  </tbody>\n",
       "</table>\n",
       "</div>"
      ],
      "text/plain": [
       "    date_occ  occ_year  occ_month  occ_day  date_rptd  rpt_year  rpt_month  \\\n",
       "0 2020-03-01      2020          3        1 2020-03-01      2020          3   \n",
       "1 2020-02-08      2020          2        8 2020-02-09      2020          2   \n",
       "2 2020-11-04      2020         11        4 2020-11-11      2020         11   \n",
       "3 2020-03-10      2020          3       10 2023-05-10      2023          5   \n",
       "4 2020-08-17      2020          8       17 2022-08-18      2022          8   \n",
       "\n",
       "   rpt_day  time_occ  occ_hr  \n",
       "0        1      2130      21  \n",
       "1        9      1800      18  \n",
       "2       11      1700      17  \n",
       "3       10      2037      20  \n",
       "4       18      1200      12  "
      ]
     },
     "execution_count": 32,
     "metadata": {},
     "output_type": "execute_result"
    }
   ],
   "source": [
    "# Display the first few rows to verify the new columns\n",
    "df[['date_occ', 'occ_year', 'occ_month', 'occ_day', 'date_rptd', 'rpt_year', 'rpt_month', 'rpt_day', \n",
    "    'time_occ', 'occ_hr']].head()"
   ]
  },
  {
   "cell_type": "code",
   "execution_count": 33,
   "id": "eb2a42ce",
   "metadata": {},
   "outputs": [],
   "source": [
    "# Extracting hour \n",
    "#df['occ_hour'] = df['date_occ'].dt.hour\n",
    "#df['rpt_hour'] = df['date_rptd'].dt.hour\n",
    "\n",
    "#df[['date_occ', 'occ_year', 'occ_month', 'occ_day', 'occ_hour', 'date_rptd', \n",
    "#    'rpt_year', 'rpt_month', 'rpt_day', 'rpt_hour']].head()"
   ]
  },
  {
   "cell_type": "code",
   "execution_count": 34,
   "id": "499a2f2c",
   "metadata": {},
   "outputs": [
    {
     "data": {
      "text/html": [
       "<div>\n",
       "<style scoped>\n",
       "    .dataframe tbody tr th:only-of-type {\n",
       "        vertical-align: middle;\n",
       "    }\n",
       "\n",
       "    .dataframe tbody tr th {\n",
       "        vertical-align: top;\n",
       "    }\n",
       "\n",
       "    .dataframe thead th {\n",
       "        text-align: right;\n",
       "    }\n",
       "</style>\n",
       "<table border=\"1\" class=\"dataframe\">\n",
       "  <thead>\n",
       "    <tr style=\"text-align: right;\">\n",
       "      <th></th>\n",
       "      <th>dr_no</th>\n",
       "      <th>date_rptd</th>\n",
       "      <th>date_occ</th>\n",
       "      <th>time_occ</th>\n",
       "      <th>area</th>\n",
       "      <th>area_name</th>\n",
       "      <th>rpt_dist_no</th>\n",
       "      <th>part_1-2</th>\n",
       "      <th>crm_cd</th>\n",
       "      <th>crm_cd_desc</th>\n",
       "      <th>...</th>\n",
       "      <th>location</th>\n",
       "      <th>lat</th>\n",
       "      <th>lon</th>\n",
       "      <th>occ_year</th>\n",
       "      <th>occ_month</th>\n",
       "      <th>occ_day</th>\n",
       "      <th>rpt_year</th>\n",
       "      <th>rpt_month</th>\n",
       "      <th>rpt_day</th>\n",
       "      <th>occ_hr</th>\n",
       "    </tr>\n",
       "  </thead>\n",
       "  <tbody>\n",
       "    <tr>\n",
       "      <th>0</th>\n",
       "      <td>190326475</td>\n",
       "      <td>2020-03-01</td>\n",
       "      <td>2020-03-01</td>\n",
       "      <td>2130</td>\n",
       "      <td>7</td>\n",
       "      <td>Wilshire</td>\n",
       "      <td>784</td>\n",
       "      <td>1</td>\n",
       "      <td>510</td>\n",
       "      <td>VEHICLE - STOLEN</td>\n",
       "      <td>...</td>\n",
       "      <td>1900 S  LONGWOOD                     AV</td>\n",
       "      <td>34.0375</td>\n",
       "      <td>-118.3506</td>\n",
       "      <td>2020</td>\n",
       "      <td>3</td>\n",
       "      <td>1</td>\n",
       "      <td>2020</td>\n",
       "      <td>3</td>\n",
       "      <td>1</td>\n",
       "      <td>21</td>\n",
       "    </tr>\n",
       "    <tr>\n",
       "      <th>1</th>\n",
       "      <td>200106753</td>\n",
       "      <td>2020-02-09</td>\n",
       "      <td>2020-02-08</td>\n",
       "      <td>1800</td>\n",
       "      <td>1</td>\n",
       "      <td>Central</td>\n",
       "      <td>182</td>\n",
       "      <td>1</td>\n",
       "      <td>330</td>\n",
       "      <td>BURGLARY FROM VEHICLE</td>\n",
       "      <td>...</td>\n",
       "      <td>1000 S  FLOWER                       ST</td>\n",
       "      <td>34.0444</td>\n",
       "      <td>-118.2628</td>\n",
       "      <td>2020</td>\n",
       "      <td>2</td>\n",
       "      <td>8</td>\n",
       "      <td>2020</td>\n",
       "      <td>2</td>\n",
       "      <td>9</td>\n",
       "      <td>18</td>\n",
       "    </tr>\n",
       "    <tr>\n",
       "      <th>2</th>\n",
       "      <td>200320258</td>\n",
       "      <td>2020-11-11</td>\n",
       "      <td>2020-11-04</td>\n",
       "      <td>1700</td>\n",
       "      <td>3</td>\n",
       "      <td>Southwest</td>\n",
       "      <td>356</td>\n",
       "      <td>1</td>\n",
       "      <td>480</td>\n",
       "      <td>BIKE - STOLEN</td>\n",
       "      <td>...</td>\n",
       "      <td>1400 W  37TH                         ST</td>\n",
       "      <td>34.0210</td>\n",
       "      <td>-118.3002</td>\n",
       "      <td>2020</td>\n",
       "      <td>11</td>\n",
       "      <td>4</td>\n",
       "      <td>2020</td>\n",
       "      <td>11</td>\n",
       "      <td>11</td>\n",
       "      <td>17</td>\n",
       "    </tr>\n",
       "    <tr>\n",
       "      <th>3</th>\n",
       "      <td>200907217</td>\n",
       "      <td>2023-05-10</td>\n",
       "      <td>2020-03-10</td>\n",
       "      <td>2037</td>\n",
       "      <td>9</td>\n",
       "      <td>Van Nuys</td>\n",
       "      <td>964</td>\n",
       "      <td>1</td>\n",
       "      <td>343</td>\n",
       "      <td>SHOPLIFTING-GRAND THEFT ($950.01 &amp; OVER)</td>\n",
       "      <td>...</td>\n",
       "      <td>14000    RIVERSIDE                    DR</td>\n",
       "      <td>34.1576</td>\n",
       "      <td>-118.4387</td>\n",
       "      <td>2020</td>\n",
       "      <td>3</td>\n",
       "      <td>10</td>\n",
       "      <td>2023</td>\n",
       "      <td>5</td>\n",
       "      <td>10</td>\n",
       "      <td>20</td>\n",
       "    </tr>\n",
       "    <tr>\n",
       "      <th>4</th>\n",
       "      <td>220614831</td>\n",
       "      <td>2022-08-18</td>\n",
       "      <td>2020-08-17</td>\n",
       "      <td>1200</td>\n",
       "      <td>6</td>\n",
       "      <td>Hollywood</td>\n",
       "      <td>666</td>\n",
       "      <td>2</td>\n",
       "      <td>354</td>\n",
       "      <td>THEFT OF IDENTITY</td>\n",
       "      <td>...</td>\n",
       "      <td>1900    TRANSIENT</td>\n",
       "      <td>34.0944</td>\n",
       "      <td>-118.3277</td>\n",
       "      <td>2020</td>\n",
       "      <td>8</td>\n",
       "      <td>17</td>\n",
       "      <td>2022</td>\n",
       "      <td>8</td>\n",
       "      <td>18</td>\n",
       "      <td>12</td>\n",
       "    </tr>\n",
       "  </tbody>\n",
       "</table>\n",
       "<p>5 rows × 29 columns</p>\n",
       "</div>"
      ],
      "text/plain": [
       "       dr_no  date_rptd   date_occ  time_occ  area  area_name  rpt_dist_no  \\\n",
       "0  190326475 2020-03-01 2020-03-01      2130     7   Wilshire          784   \n",
       "1  200106753 2020-02-09 2020-02-08      1800     1    Central          182   \n",
       "2  200320258 2020-11-11 2020-11-04      1700     3  Southwest          356   \n",
       "3  200907217 2023-05-10 2020-03-10      2037     9   Van Nuys          964   \n",
       "4  220614831 2022-08-18 2020-08-17      1200     6  Hollywood          666   \n",
       "\n",
       "   part_1-2  crm_cd                               crm_cd_desc  ...  \\\n",
       "0         1     510                          VEHICLE - STOLEN  ...   \n",
       "1         1     330                     BURGLARY FROM VEHICLE  ...   \n",
       "2         1     480                             BIKE - STOLEN  ...   \n",
       "3         1     343  SHOPLIFTING-GRAND THEFT ($950.01 & OVER)  ...   \n",
       "4         2     354                         THEFT OF IDENTITY  ...   \n",
       "\n",
       "                                   location      lat       lon occ_year  \\\n",
       "0   1900 S  LONGWOOD                     AV  34.0375 -118.3506     2020   \n",
       "1   1000 S  FLOWER                       ST  34.0444 -118.2628     2020   \n",
       "2   1400 W  37TH                         ST  34.0210 -118.3002     2020   \n",
       "3  14000    RIVERSIDE                    DR  34.1576 -118.4387     2020   \n",
       "4                         1900    TRANSIENT  34.0944 -118.3277     2020   \n",
       "\n",
       "   occ_month occ_day rpt_year rpt_month  rpt_day occ_hr  \n",
       "0          3       1     2020         3        1     21  \n",
       "1          2       8     2020         2        9     18  \n",
       "2         11       4     2020        11       11     17  \n",
       "3          3      10     2023         5       10     20  \n",
       "4          8      17     2022         8       18     12  \n",
       "\n",
       "[5 rows x 29 columns]"
      ]
     },
     "execution_count": 34,
     "metadata": {},
     "output_type": "execute_result"
    }
   ],
   "source": [
    "df.head()"
   ]
  },
  {
   "cell_type": "code",
   "execution_count": 35,
   "id": "a8ffe304",
   "metadata": {},
   "outputs": [],
   "source": [
    "#print(df[['date_occ', 'date_rptd']].head(10))"
   ]
  },
  {
   "cell_type": "code",
   "execution_count": 36,
   "id": "e6b1fed2",
   "metadata": {},
   "outputs": [],
   "source": [
    "#df = df.drop(columns=['occ_hour', 'rpt_hour'])\n",
    "\n",
    "#print(df.columns)"
   ]
  },
  {
   "cell_type": "code",
   "execution_count": 37,
   "id": "fbd2955e",
   "metadata": {},
   "outputs": [
    {
     "name": "stdout",
     "output_type": "stream",
     "text": [
      "    date_occ  is_weekend\n",
      "0 2020-03-01        True\n",
      "1 2020-02-08        True\n",
      "2 2020-11-04       False\n",
      "3 2020-03-10       False\n",
      "4 2020-08-17       False\n",
      "5 2020-12-01       False\n",
      "6 2020-07-03       False\n",
      "7 2020-05-12       False\n",
      "8 2020-12-09       False\n",
      "9 2020-12-31       False\n"
     ]
    }
   ],
   "source": [
    "# Add Derived Columns: Create relevant columns \n",
    "\n",
    "# Create is_weekend column \n",
    "\n",
    "# True if Saturday or Sunday, False if others\n",
    "\n",
    "df['is_weekend'] = df['date_occ'].dt.dayofweek >= 5\n",
    "\n",
    "print(df[['date_occ', 'is_weekend']].head(10))"
   ]
  },
  {
   "cell_type": "code",
   "execution_count": 38,
   "id": "af7dcf3f",
   "metadata": {},
   "outputs": [
    {
     "name": "stdout",
     "output_type": "stream",
     "text": [
      "    date_occ day_of_week\n",
      "0 2020-03-01      Sunday\n",
      "1 2020-02-08    Saturday\n",
      "2 2020-11-04   Wednesday\n",
      "3 2020-03-10     Tuesday\n",
      "4 2020-08-17      Monday\n",
      "5 2020-12-01     Tuesday\n",
      "6 2020-07-03      Friday\n",
      "7 2020-05-12     Tuesday\n",
      "8 2020-12-09   Wednesday\n",
      "9 2020-12-31    Thursday\n"
     ]
    }
   ],
   "source": [
    "# Create day_of_week column which will allow us to analyze crime patterns across specific days \n",
    "# This column will extract the weekday name from date_occ\n",
    "\n",
    "df['day_of_week'] = df['date_occ'].dt.day_name()\n",
    "\n",
    "print(df[['date_occ', 'day_of_week']].head(10))"
   ]
  },
  {
   "cell_type": "code",
   "execution_count": null,
   "id": "c23f5052",
   "metadata": {},
   "outputs": [],
   "source": [
    "# Lets explore crime desc to understand the categories of crimes present \n",
    "\n",
    "\n",
    "unique_crime_desc= df['crm_cd_desc'].unique()\n",
    "print(unique_crime_desc)\n"
   ]
  },
  {
   "cell_type": "code",
   "execution_count": 40,
   "id": "98bbb35f",
   "metadata": {},
   "outputs": [
    {
     "name": "stdout",
     "output_type": "stream",
     "text": [
      "                                crm_cd_desc crime_severity\n",
      "0                          VEHICLE - STOLEN         Medium\n",
      "1                     BURGLARY FROM VEHICLE         Medium\n",
      "2                             BIKE - STOLEN         Medium\n",
      "3  SHOPLIFTING-GRAND THEFT ($950.01 & OVER)         Medium\n",
      "4                         THEFT OF IDENTITY         Medium\n",
      "5                         THEFT OF IDENTITY         Medium\n",
      "6                         THEFT OF IDENTITY         Medium\n",
      "7                         THEFT OF IDENTITY         Medium\n",
      "8                         THEFT OF IDENTITY         Medium\n",
      "9                  BATTERY - SIMPLE ASSAULT           High\n"
     ]
    }
   ],
   "source": [
    "# Creating a Crime Severity Column \n",
    "# This will categorize crimes into High, Medium and Low \n",
    "\n",
    "# Define severity categorization based on keywords\n",
    "def categorize_severity(crime_desc):\n",
    "    crime_desc = crime_desc.upper()  # Ensure case insensitivity\n",
    "    if any(word in crime_desc for word in [\"HOMICIDE\", \"ASSAULT\", \"KIDNAPPING\", \"RAPE\", \"EXTORTION\", \"ROBBERY\", \"BATTERY\", \"WEAPON\", \"ARSON\"]):\n",
    "        return 'High'\n",
    "    elif any(word in crime_desc for word in [\"THEFT\", \"BURGLARY\", \"FRAUD\", \"VANDALISM\", \"SHOPLIFTING\", \"EMBEZZLEMENT\", \"STOLEN\"]):\n",
    "        return 'Medium'\n",
    "    elif any(word in crime_desc for word in [\"TRESPASSING\", \"DISRUPT\", \"DISTURBING\", \"RECKLESS\", \"DRUNK\", \"PETTY\"]):\n",
    "        return 'Low'\n",
    "    else:\n",
    "        return 'Low'  # Default to 'Low' if none of the keywords match\n",
    "\n",
    "# Apply function to create 'crime_severity' column\n",
    "df['crime_severity'] = df['crm_cd_desc'].apply(categorize_severity)\n",
    "\n",
    "# Verify the addition of the new column\n",
    "print(df[['crm_cd_desc', 'crime_severity']].head(10))"
   ]
  },
  {
   "cell_type": "code",
   "execution_count": null,
   "id": "dba0aab7",
   "metadata": {},
   "outputs": [],
   "source": [
    "# Display the next few rows to verify categorization\n",
    "df[['crm_cd_desc', 'crime_severity']].head(20)"
   ]
  },
  {
   "cell_type": "code",
   "execution_count": null,
   "id": "c78c7630",
   "metadata": {},
   "outputs": [],
   "source": [
    "# Define severity categorization based on keywords\n",
    "def categorize_severity(crime_desc):\n",
    "    crime_desc = crime_desc.upper()  \n",
    "    if any(word in crime_desc for word in [\"HOMICIDE\", \"ASSAULT\", \"KIDNAPPING\", \"RAPE\",\n",
    "                                           \"EXTORTION\", \"ROBBERY\", \"BATTERY\", \"WEAPON\", \"ARSON\",\n",
    "                                           \"SEXUAL\", \"SODOMY\", \"MINOR\", \"CRM\", \"CRIME\",\n",
    "                                           \"AGNST CHLD\"]):\n",
    "        return 'High'\n",
    "    elif any(word in crime_desc for word in [\"THEFT\", \"BURGLARY\", \"FRAUD\", \"VANDALISM\", \"SHOPLIFTING\", \n",
    "                                             \"EMBEZZLEMENT\", \"STOLEN\", \"ANNOYING\"]):\n",
    "        return 'Medium'\n",
    "    elif any(word in crime_desc for word in [\"TRESPASSING\", \"DISRUPT\", \"DISTURBING\", \"RECKLESS\", \n",
    "                                             \"DRUNK\", \"PETTY\"]):\n",
    "        return 'Low'\n",
    "    else:\n",
    "        return 'Unknown'  # Default to 'Unknown' if none of the keywords match\n",
    "\n",
    "# Apply function to create 'crime_severity' column\n",
    "df['crime_severity'] = df['crm_cd_desc'].apply(categorize_severity)\n",
    "\n",
    "# Verify the addition of the new column\n",
    "print(df[['crm_cd_desc', 'crime_severity']].head(50))"
   ]
  },
  {
   "cell_type": "code",
   "execution_count": 43,
   "id": "77b6ad63",
   "metadata": {},
   "outputs": [
    {
     "name": "stdout",
     "output_type": "stream",
     "text": [
      "Missing values in location data:\n",
      " lat    0\n",
      "lon    0\n",
      "dtype: int64\n"
     ]
    }
   ],
   "source": [
    "# Ensuring 'lat' and 'lon' do not have any missing values\n",
    "missing_location = df[['lat', 'lon']].isnull().sum()\n",
    "print(\"Missing values in location data:\\n\", missing_location)"
   ]
  },
  {
   "cell_type": "markdown",
   "id": "f376b7d6",
   "metadata": {},
   "source": [
    "## 3. Data Enrichment with External Data "
   ]
  },
  {
   "cell_type": "code",
   "execution_count": 44,
   "id": "5abc4c4a",
   "metadata": {},
   "outputs": [
    {
     "name": "stderr",
     "output_type": "stream",
     "text": [
      "/var/folders/lf/v01d8y2j1sd5kxsgsf9zrsgc0000gn/T/ipykernel_2951/3651273110.py:3: DtypeWarning: Columns (3,22,28) have mixed types. Specify dtype option on import or set low_memory=False.\n",
      "  colls_df = pd.read_csv('/Users/lasya/Downloads/Motor_Vehicle_Collisions_-_Crashes.csv')\n"
     ]
    },
    {
     "data": {
      "text/html": [
       "<div>\n",
       "<style scoped>\n",
       "    .dataframe tbody tr th:only-of-type {\n",
       "        vertical-align: middle;\n",
       "    }\n",
       "\n",
       "    .dataframe tbody tr th {\n",
       "        vertical-align: top;\n",
       "    }\n",
       "\n",
       "    .dataframe thead th {\n",
       "        text-align: right;\n",
       "    }\n",
       "</style>\n",
       "<table border=\"1\" class=\"dataframe\">\n",
       "  <thead>\n",
       "    <tr style=\"text-align: right;\">\n",
       "      <th></th>\n",
       "      <th>CRASH DATE</th>\n",
       "      <th>CRASH TIME</th>\n",
       "      <th>BOROUGH</th>\n",
       "      <th>ZIP CODE</th>\n",
       "      <th>LATITUDE</th>\n",
       "      <th>LONGITUDE</th>\n",
       "      <th>LOCATION</th>\n",
       "      <th>ON STREET NAME</th>\n",
       "      <th>CROSS STREET NAME</th>\n",
       "      <th>OFF STREET NAME</th>\n",
       "      <th>...</th>\n",
       "      <th>CONTRIBUTING FACTOR VEHICLE 2</th>\n",
       "      <th>CONTRIBUTING FACTOR VEHICLE 3</th>\n",
       "      <th>CONTRIBUTING FACTOR VEHICLE 4</th>\n",
       "      <th>CONTRIBUTING FACTOR VEHICLE 5</th>\n",
       "      <th>COLLISION_ID</th>\n",
       "      <th>VEHICLE TYPE CODE 1</th>\n",
       "      <th>VEHICLE TYPE CODE 2</th>\n",
       "      <th>VEHICLE TYPE CODE 3</th>\n",
       "      <th>VEHICLE TYPE CODE 4</th>\n",
       "      <th>VEHICLE TYPE CODE 5</th>\n",
       "    </tr>\n",
       "  </thead>\n",
       "  <tbody>\n",
       "    <tr>\n",
       "      <th>0</th>\n",
       "      <td>09/11/2021</td>\n",
       "      <td>2:39</td>\n",
       "      <td>NaN</td>\n",
       "      <td>NaN</td>\n",
       "      <td>NaN</td>\n",
       "      <td>NaN</td>\n",
       "      <td>NaN</td>\n",
       "      <td>WHITESTONE EXPRESSWAY</td>\n",
       "      <td>20 AVENUE</td>\n",
       "      <td>NaN</td>\n",
       "      <td>...</td>\n",
       "      <td>Unspecified</td>\n",
       "      <td>NaN</td>\n",
       "      <td>NaN</td>\n",
       "      <td>NaN</td>\n",
       "      <td>4455765</td>\n",
       "      <td>Sedan</td>\n",
       "      <td>Sedan</td>\n",
       "      <td>NaN</td>\n",
       "      <td>NaN</td>\n",
       "      <td>NaN</td>\n",
       "    </tr>\n",
       "    <tr>\n",
       "      <th>1</th>\n",
       "      <td>03/26/2022</td>\n",
       "      <td>11:45</td>\n",
       "      <td>NaN</td>\n",
       "      <td>NaN</td>\n",
       "      <td>NaN</td>\n",
       "      <td>NaN</td>\n",
       "      <td>NaN</td>\n",
       "      <td>QUEENSBORO BRIDGE UPPER</td>\n",
       "      <td>NaN</td>\n",
       "      <td>NaN</td>\n",
       "      <td>...</td>\n",
       "      <td>NaN</td>\n",
       "      <td>NaN</td>\n",
       "      <td>NaN</td>\n",
       "      <td>NaN</td>\n",
       "      <td>4513547</td>\n",
       "      <td>Sedan</td>\n",
       "      <td>NaN</td>\n",
       "      <td>NaN</td>\n",
       "      <td>NaN</td>\n",
       "      <td>NaN</td>\n",
       "    </tr>\n",
       "    <tr>\n",
       "      <th>2</th>\n",
       "      <td>06/29/2022</td>\n",
       "      <td>6:55</td>\n",
       "      <td>NaN</td>\n",
       "      <td>NaN</td>\n",
       "      <td>NaN</td>\n",
       "      <td>NaN</td>\n",
       "      <td>NaN</td>\n",
       "      <td>THROGS NECK BRIDGE</td>\n",
       "      <td>NaN</td>\n",
       "      <td>NaN</td>\n",
       "      <td>...</td>\n",
       "      <td>Unspecified</td>\n",
       "      <td>NaN</td>\n",
       "      <td>NaN</td>\n",
       "      <td>NaN</td>\n",
       "      <td>4541903</td>\n",
       "      <td>Sedan</td>\n",
       "      <td>Pick-up Truck</td>\n",
       "      <td>NaN</td>\n",
       "      <td>NaN</td>\n",
       "      <td>NaN</td>\n",
       "    </tr>\n",
       "    <tr>\n",
       "      <th>3</th>\n",
       "      <td>09/11/2021</td>\n",
       "      <td>9:35</td>\n",
       "      <td>BROOKLYN</td>\n",
       "      <td>11208.0</td>\n",
       "      <td>40.667202</td>\n",
       "      <td>-73.866500</td>\n",
       "      <td>(40.667202, -73.8665)</td>\n",
       "      <td>NaN</td>\n",
       "      <td>NaN</td>\n",
       "      <td>1211      LORING AVENUE</td>\n",
       "      <td>...</td>\n",
       "      <td>NaN</td>\n",
       "      <td>NaN</td>\n",
       "      <td>NaN</td>\n",
       "      <td>NaN</td>\n",
       "      <td>4456314</td>\n",
       "      <td>Sedan</td>\n",
       "      <td>NaN</td>\n",
       "      <td>NaN</td>\n",
       "      <td>NaN</td>\n",
       "      <td>NaN</td>\n",
       "    </tr>\n",
       "    <tr>\n",
       "      <th>4</th>\n",
       "      <td>12/14/2021</td>\n",
       "      <td>8:13</td>\n",
       "      <td>BROOKLYN</td>\n",
       "      <td>11233.0</td>\n",
       "      <td>40.683304</td>\n",
       "      <td>-73.917274</td>\n",
       "      <td>(40.683304, -73.917274)</td>\n",
       "      <td>SARATOGA AVENUE</td>\n",
       "      <td>DECATUR STREET</td>\n",
       "      <td>NaN</td>\n",
       "      <td>...</td>\n",
       "      <td>NaN</td>\n",
       "      <td>NaN</td>\n",
       "      <td>NaN</td>\n",
       "      <td>NaN</td>\n",
       "      <td>4486609</td>\n",
       "      <td>NaN</td>\n",
       "      <td>NaN</td>\n",
       "      <td>NaN</td>\n",
       "      <td>NaN</td>\n",
       "      <td>NaN</td>\n",
       "    </tr>\n",
       "  </tbody>\n",
       "</table>\n",
       "<p>5 rows × 29 columns</p>\n",
       "</div>"
      ],
      "text/plain": [
       "   CRASH DATE CRASH TIME   BOROUGH ZIP CODE   LATITUDE  LONGITUDE  \\\n",
       "0  09/11/2021       2:39       NaN      NaN        NaN        NaN   \n",
       "1  03/26/2022      11:45       NaN      NaN        NaN        NaN   \n",
       "2  06/29/2022       6:55       NaN      NaN        NaN        NaN   \n",
       "3  09/11/2021       9:35  BROOKLYN  11208.0  40.667202 -73.866500   \n",
       "4  12/14/2021       8:13  BROOKLYN  11233.0  40.683304 -73.917274   \n",
       "\n",
       "                  LOCATION           ON STREET NAME CROSS STREET NAME  \\\n",
       "0                      NaN    WHITESTONE EXPRESSWAY         20 AVENUE   \n",
       "1                      NaN  QUEENSBORO BRIDGE UPPER               NaN   \n",
       "2                      NaN       THROGS NECK BRIDGE               NaN   \n",
       "3    (40.667202, -73.8665)                      NaN               NaN   \n",
       "4  (40.683304, -73.917274)          SARATOGA AVENUE    DECATUR STREET   \n",
       "\n",
       "           OFF STREET NAME  ...  CONTRIBUTING FACTOR VEHICLE 2  \\\n",
       "0                      NaN  ...                    Unspecified   \n",
       "1                      NaN  ...                            NaN   \n",
       "2                      NaN  ...                    Unspecified   \n",
       "3  1211      LORING AVENUE  ...                            NaN   \n",
       "4                      NaN  ...                            NaN   \n",
       "\n",
       "   CONTRIBUTING FACTOR VEHICLE 3  CONTRIBUTING FACTOR VEHICLE 4  \\\n",
       "0                            NaN                            NaN   \n",
       "1                            NaN                            NaN   \n",
       "2                            NaN                            NaN   \n",
       "3                            NaN                            NaN   \n",
       "4                            NaN                            NaN   \n",
       "\n",
       "   CONTRIBUTING FACTOR VEHICLE 5  COLLISION_ID  VEHICLE TYPE CODE 1  \\\n",
       "0                            NaN       4455765                Sedan   \n",
       "1                            NaN       4513547                Sedan   \n",
       "2                            NaN       4541903                Sedan   \n",
       "3                            NaN       4456314                Sedan   \n",
       "4                            NaN       4486609                  NaN   \n",
       "\n",
       "   VEHICLE TYPE CODE 2  VEHICLE TYPE CODE 3 VEHICLE TYPE CODE 4  \\\n",
       "0                Sedan                  NaN                 NaN   \n",
       "1                  NaN                  NaN                 NaN   \n",
       "2        Pick-up Truck                  NaN                 NaN   \n",
       "3                  NaN                  NaN                 NaN   \n",
       "4                  NaN                  NaN                 NaN   \n",
       "\n",
       "  VEHICLE TYPE CODE 5  \n",
       "0                 NaN  \n",
       "1                 NaN  \n",
       "2                 NaN  \n",
       "3                 NaN  \n",
       "4                 NaN  \n",
       "\n",
       "[5 rows x 29 columns]"
      ]
     },
     "execution_count": 44,
     "metadata": {},
     "output_type": "execute_result"
    }
   ],
   "source": [
    "# Loading the external dataset\n",
    "\n",
    "colls_df = pd.read_csv('/Users/lasya/Downloads/Motor_Vehicle_Collisions_-_Crashes.csv')\n",
    "\n",
    "colls_df.head()"
   ]
  },
  {
   "cell_type": "code",
   "execution_count": null,
   "id": "ec59d0da",
   "metadata": {},
   "outputs": [],
   "source": [
    "colls_df.info()"
   ]
  },
  {
   "cell_type": "code",
   "execution_count": 46,
   "id": "4c2b85fe",
   "metadata": {},
   "outputs": [],
   "source": [
    "colls_df['CRASH DATE'] = pd.to_datetime(colls_df['CRASH DATE'], errors = 'coerce')"
   ]
  },
  {
   "cell_type": "code",
   "execution_count": 47,
   "id": "fcece911",
   "metadata": {},
   "outputs": [
    {
     "name": "stdout",
     "output_type": "stream",
     "text": [
      "Crime dataset size: (985904, 32)\n",
      "Collisions dataset size: (2130063, 29)\n"
     ]
    }
   ],
   "source": [
    "print(f\"Crime dataset size: {df.shape}\")\n",
    "print(f\"Collisions dataset size: {colls_df.shape}\")"
   ]
  },
  {
   "cell_type": "code",
   "execution_count": null,
   "id": "79ed8e55",
   "metadata": {},
   "outputs": [],
   "source": [
    "# Sort both DataFrames by their date columns\n",
    "df = df.sort_values('date_occ')\n",
    "colls_df = colls_df.sort_values('CRASH DATE')\n",
    "\n",
    "# Merge datasets using pd.merge_asof\n",
    "merged_data = pd.merge_asof(\n",
    "    df,\n",
    "    colls_df,\n",
    "    left_on='date_occ',\n",
    "    right_on='CRASH DATE',\n",
    "    direction='nearest'\n",
    ")\n",
    "\n",
    "# Display the first few rows of the merged dataset\n",
    "print(merged_data.head())\n"
   ]
  },
  {
   "cell_type": "markdown",
   "id": "7c7b885d",
   "metadata": {},
   "source": [
    "## 4. ETL Pipeline Simulation"
   ]
  },
  {
   "cell_type": "code",
   "execution_count": 49,
   "id": "3d52c69b",
   "metadata": {},
   "outputs": [
    {
     "name": "stdout",
     "output_type": "stream",
     "text": [
      "NaN values in the merged dataset:\n",
      " BOROUGH                          341064\n",
      "ZIP CODE                         341064\n",
      "LATITUDE                          92104\n",
      "LONGITUDE                         92104\n",
      "LOCATION                          92104\n",
      "ON STREET NAME                   253647\n",
      "CROSS STREET NAME                508952\n",
      "OFF STREET NAME                  732257\n",
      "CONTRIBUTING FACTOR VEHICLE 1      8543\n",
      "CONTRIBUTING FACTOR VEHICLE 2    225480\n",
      "CONTRIBUTING FACTOR VEHICLE 3    901864\n",
      "CONTRIBUTING FACTOR VEHICLE 4    969556\n",
      "CONTRIBUTING FACTOR VEHICLE 5    982677\n",
      "VEHICLE TYPE CODE 1               16585\n",
      "VEHICLE TYPE CODE 2              319878\n",
      "VEHICLE TYPE CODE 3              905548\n",
      "VEHICLE TYPE CODE 4              969687\n",
      "VEHICLE TYPE CODE 5              982677\n",
      "dtype: int64\n"
     ]
    }
   ],
   "source": [
    "# Check for NaN values in the merged dataset\n",
    "nan_summary = merged_data.isnull().sum()\n",
    "print(\"NaN values in the merged dataset:\\n\", nan_summary[nan_summary > 0])"
   ]
  },
  {
   "cell_type": "code",
   "execution_count": 50,
   "id": "7732a04b",
   "metadata": {},
   "outputs": [
    {
     "name": "stdout",
     "output_type": "stream",
     "text": [
      "Transformed column names: Index(['crash_date', 'crash_time', 'borough', 'zip_code', 'latitude',\n",
      "       'longitude', 'location', 'on_street_name', 'cross_street_name',\n",
      "       'off_street_name', 'number_of_persons_injured',\n",
      "       'number_of_persons_killed', 'number_of_pedestrians_injured',\n",
      "       'number_of_pedestrians_killed', 'number_of_cyclist_injured',\n",
      "       'number_of_cyclist_killed', 'number_of_motorist_injured',\n",
      "       'number_of_motorist_killed', 'contributing_factor_vehicle_1',\n",
      "       'contributing_factor_vehicle_2', 'contributing_factor_vehicle_3',\n",
      "       'contributing_factor_vehicle_4', 'contributing_factor_vehicle_5',\n",
      "       'collision_id', 'vehicle_type_code_1', 'vehicle_type_code_2',\n",
      "       'vehicle_type_code_3', 'vehicle_type_code_4', 'vehicle_type_code_5'],\n",
      "      dtype='object')\n"
     ]
    }
   ],
   "source": [
    "# Create a temporary list of transformed column names\n",
    "temp_colls_columns = colls_df.columns.str.strip().str.lower().str.replace(r'\\s+', '_', regex=True)\n",
    "\n",
    "# Display the transformed column names to confirm the format\n",
    "print(\"Transformed column names:\", temp_colls_columns)"
   ]
  },
  {
   "cell_type": "code",
   "execution_count": 51,
   "id": "a019ae2d",
   "metadata": {},
   "outputs": [
    {
     "name": "stdout",
     "output_type": "stream",
     "text": [
      "Updated DataFrame column names: Index(['crash_date', 'crash_time', 'borough', 'zip_code', 'latitude',\n",
      "       'longitude', 'location', 'on_street_name', 'cross_street_name',\n",
      "       'off_street_name', 'number_of_persons_injured',\n",
      "       'number_of_persons_killed', 'number_of_pedestrians_injured',\n",
      "       'number_of_pedestrians_killed', 'number_of_cyclist_injured',\n",
      "       'number_of_cyclist_killed', 'number_of_motorist_injured',\n",
      "       'number_of_motorist_killed', 'contributing_factor_vehicle_1',\n",
      "       'contributing_factor_vehicle_2', 'contributing_factor_vehicle_3',\n",
      "       'contributing_factor_vehicle_4', 'contributing_factor_vehicle_5',\n",
      "       'collision_id', 'vehicle_type_code_1', 'vehicle_type_code_2',\n",
      "       'vehicle_type_code_3', 'vehicle_type_code_4', 'vehicle_type_code_5'],\n",
      "      dtype='object')\n"
     ]
    }
   ],
   "source": [
    "# Apply the transformed column names to the DataFrame\n",
    "colls_df.columns = temp_colls_columns\n",
    "\n",
    "# Verify the updated column names in df\n",
    "print(\"Updated DataFrame column names:\", colls_df.columns)"
   ]
  },
  {
   "cell_type": "code",
   "execution_count": 52,
   "id": "cf49090a",
   "metadata": {},
   "outputs": [],
   "source": [
    "# Load: Export the transformed and enriched dataset\n",
    "merged_data.to_csv('transformed_crime_data.csv', index=False)"
   ]
  },
  {
   "cell_type": "markdown",
   "id": "41274257",
   "metadata": {},
   "source": [
    "## 5. Data Aggregation and Analysis"
   ]
  },
  {
   "cell_type": "code",
   "execution_count": null,
   "id": "afb2084e",
   "metadata": {},
   "outputs": [],
   "source": [
    "# Time Series Analysis: Use the time components to analyze trends in crime rates (e.g., trends by month or hour).\n",
    "\n",
    "monthly_trends = merged_data.groupby('occ_month').size()\n",
    "hourly_trends = merged_data.groupby('occ_hr').size()\n",
    "\n",
    "# Print the trends\n",
    "print(\"Monthly Trends:\\n\", monthly_trends)\n",
    "print(\"Hourly Trends:\\n\", hourly_trends)"
   ]
  },
  {
   "cell_type": "code",
   "execution_count": 54,
   "id": "a5724df3",
   "metadata": {},
   "outputs": [
    {
     "name": "stdout",
     "output_type": "stream",
     "text": [
      "Top Hotspots:\n",
      "            lat       lon  incident_count\n",
      "33594  34.0561 -118.2375            2355\n",
      "0       0.0000    0.0000            2262\n",
      "30759  34.0483 -118.2631            1752\n",
      "68711  34.2440 -118.5583            1473\n",
      "28609  34.0428 -118.4582            1382\n",
      "37940  34.0736 -118.3563            1273\n",
      "34968  34.0611 -118.4184            1261\n",
      "34554  34.0595 -118.2749            1233\n",
      "43413  34.1016 -118.3387            1225\n",
      "30640  34.0480 -118.2577            1125\n"
     ]
    }
   ],
   "source": [
    "# Hotspot Analysis: Identify the top 5 crime hotspots using location data and visualize these hotspots on a map, if latitude and longitude information is available.\n",
    "\n",
    "# Group by latitude and longitude to count the number of incidents\n",
    "hotspot_data = merged_data.groupby(['lat', 'lon']).size().reset_index(name='incident_count')\n",
    "\n",
    "# Display the top hotspots\n",
    "top_hotspots = hotspot_data.sort_values(by='incident_count', ascending=False).head(10)  # Get top 10 hotspots\n",
    "print(\"Top Hotspots:\\n\", top_hotspots)"
   ]
  },
  {
   "cell_type": "code",
   "execution_count": 55,
   "id": "14f39482",
   "metadata": {},
   "outputs": [
    {
     "name": "stdout",
     "output_type": "stream",
     "text": [
      "Severity Counts:\n",
      " Medium     615336\n",
      "High       296399\n",
      "Unknown     54160\n",
      "Low         20009\n",
      "Name: crime_severity, dtype: int64\n"
     ]
    }
   ],
   "source": [
    "# Severity Analysis: If the dataset includes a severity or category column, analyze the most common categories and identify if any are more likely to occur at specific times of day or in certain areas.\n",
    "\n",
    "# Count occurrences of each severity level\n",
    "severity_counts = merged_data['crime_severity'].value_counts()\n",
    "\n",
    "# Display the counts\n",
    "print(\"Severity Counts:\\n\", severity_counts)"
   ]
  },
  {
   "cell_type": "code",
   "execution_count": null,
   "id": "79838379",
   "metadata": {},
   "outputs": [],
   "source": [
    "# Group by hour and severity to count occurrences\n",
    "hourly_severity = merged_data.groupby(['occ_hr', 'crime_severity']).size().unstack(fill_value=0)\n",
    "\n",
    "# Display the hourly severity analysis\n",
    "print(\"Hourly Severity Analysis:\\n\", hourly_severity)\n"
   ]
  },
  {
   "cell_type": "code",
   "execution_count": null,
   "id": "ed7397c3",
   "metadata": {},
   "outputs": [],
   "source": [
    "# Group by area and severity to count occurrences\n",
    "area_severity = merged_data.groupby(['area_name', 'crime_severity']).size().unstack(fill_value=0)\n",
    "\n",
    "# Display the area severity analysis\n",
    "print(\"Area Severity Analysis:\\n\", area_severity)"
   ]
  },
  {
   "cell_type": "markdown",
   "id": "754807b1",
   "metadata": {},
   "source": [
    "## 6. Visualization "
   ]
  },
  {
   "cell_type": "code",
   "execution_count": null,
   "id": "2d63de2a",
   "metadata": {},
   "outputs": [],
   "source": [
    "!pip install folium"
   ]
  },
  {
   "cell_type": "code",
   "execution_count": 59,
   "id": "f77a2a2a",
   "metadata": {},
   "outputs": [],
   "source": [
    "# Crime by Day of the Week and Hour: Create a heatmap showing the distribution of crimes by the day of the week and the hour of the day.\n",
    "\n",
    "import seaborn as sns\n",
    "import matplotlib.pyplot as plt\n",
    "\n",
    "# Define the correct order of days\n",
    "day_order = ['Monday', 'Tuesday', 'Wednesday', 'Thursday', 'Friday', 'Saturday', 'Sunday']\n",
    "\n",
    "# Convert 'day' column to a categorical type with the specified order\n",
    "merged_data['day_of_week'] = pd.Categorical(merged_data['day_of_week'], categories=day_order, ordered=True)\n",
    "\n",
    "# Create the pivot table again\n",
    "heatmap_data = merged_data.groupby(['day_of_week', 'occ_hr']).size().unstack(fill_value=0)"
   ]
  },
  {
   "cell_type": "code",
   "execution_count": 60,
   "id": "aa56ee56",
   "metadata": {},
   "outputs": [
    {
     "data": {
      "image/png": "[encoded data removed]",
      "text/plain": [
       "<Figure size 864x432 with 2 Axes>"
      ]
     },
     "metadata": {
      "needs_background": "light"
     },
     "output_type": "display_data"
    }
   ],
   "source": [
    "# Create a heatmap\n",
    "plt.figure(figsize=(12, 6))\n",
    "sns.heatmap(heatmap_data, cmap='coolwarm', annot=True, fmt='d')\n",
    "plt.title('Crime Distribution by Day of the Week and Hour')\n",
    "plt.xlabel('Hour of Day')\n",
    "plt.ylabel('Day of Week')\n",
    "plt.show()\n"
   ]
  },
  {
   "cell_type": "code",
   "execution_count": 62,
   "id": "a151b3d7",
   "metadata": {},
   "outputs": [
    {
     "data": {
      "image/png": "[encoded data removed]",
      "text/plain": [
       "<Figure size 864x432 with 1 Axes>"
      ]
     },
     "metadata": {
      "needs_background": "light"
     },
     "output_type": "display_data"
    },
    {
     "data": {
      "image/png": "[encoded data removed]",
      "text/plain": [
       "<Figure size 864x432 with 1 Axes>"
      ]
     },
     "metadata": {
      "needs_background": "light"
     },
     "output_type": "display_data"
    }
   ],
   "source": [
    "import matplotlib.pyplot as plt\n",
    "\n",
    "# Visualizing Monthly Trends\n",
    "plt.figure(figsize=(12, 6))\n",
    "plt.plot(monthly_trends.index, monthly_trends.values, marker='o')\n",
    "plt.title('Monthly Crime Trends')\n",
    "plt.xlabel('Month')\n",
    "plt.ylabel('Number of Incidents')\n",
    "plt.xticks(rotation=45)\n",
    "plt.grid()\n",
    "plt.tight_layout()\n",
    "plt.show()\n",
    "\n",
    "# Visualizing Hourly Trends\n",
    "plt.figure(figsize=(12, 6))\n",
    "plt.bar(hourly_trends.index, hourly_trends.values, color='skyblue')\n",
    "plt.title('Hourly Crime Trends')\n",
    "plt.xlabel('Hour of the Day')\n",
    "plt.ylabel('Number of Incidents')\n",
    "plt.xticks(range(0, 24))  # Set x-ticks for each hour\n",
    "plt.grid(axis='y')\n",
    "plt.tight_layout()\n",
    "plt.show()\n"
   ]
  },
  {
   "cell_type": "markdown",
   "id": "df87b9ea",
   "metadata": {},
   "source": [
    "## 7. Bonus Task\n"
   ]
  },
  {
   "cell_type": "code",
   "execution_count": null,
   "id": "c7c24668",
   "metadata": {},
   "outputs": [],
   "source": [
    "\n",
    "pip install dask\n"
   ]
  },
  {
   "cell_type": "code",
   "execution_count": null,
   "id": "a2285276",
   "metadata": {},
   "outputs": [],
   "source": [
    "#import dask.dataframe as dd\n",
    "\n",
    "# Load the dataset with Dask\n",
    "#ddf = dd.read_csv('/Users/lasya/DE Training/transformed_crime_data.csv')  \n",
    "\n",
    "# Check the first few rows\n",
    "# print(ddf.head())\n",
    "\n",
    "\n"
   ]
  },
  {
   "cell_type": "code",
   "execution_count": null,
   "id": "db56151b",
   "metadata": {},
   "outputs": [],
   "source": []
  }
 ],
 "metadata": {
  "kernelspec": {
   "display_name": "Python 3 (ipykernel)",
   "language": "python",
   "name": "python3"
  },
  "language_info": {
   "codemirror_mode": {
    "name": "ipython",
    "version": 3
   },
   "file_extension": ".py",
   "mimetype": "text/x-python",
   "name": "python",
   "nbconvert_exporter": "python",
   "pygments_lexer": "ipython3",
   "version": "3.9.12"
  }
 },
 "nbformat": 4,
 "nbformat_minor": 5
}
